{
 "cells": [
  {
   "cell_type": "markdown",
   "id": "b0690b6d-8848-4972-9213-e762b8cb5ffb",
   "metadata": {},
   "source": [
    "### Imports"
   ]
  },
  {
   "cell_type": "code",
   "execution_count": 1,
   "id": "f512f1eb-e8c8-4ca8-a1b4-9867d5d22cad",
   "metadata": {},
   "outputs": [],
   "source": [
    "import numpy as np\n",
    "import pandas as pd\n",
    "import matplotlib.pyplot as plt\n",
    "import seaborn as sns"
   ]
  },
  {
   "cell_type": "markdown",
   "id": "5c3df2f2-1df5-4f66-8f96-8f60ea7be1fe",
   "metadata": {},
   "source": [
    "## Data\n",
    "https://www.kaggle.com/competitions/spaceship-titanic\n",
    "\n",
    "---\n",
    "Task is to predict whether a passenger was transported to an alternate dimension during the Spaceship Titanic's collision with the spacetime anomaly. \n",
    "\n",
    "##### Data Dictionary\n",
    "    PassengerId - A unique Id for each passenger. Each Id takes the form gggg_pp where gggg indicates a group the passenger is travelling with and pp is their number within the group. People in a group are often family members, but not always.\n",
    "    HomePlanet - The planet the passenger departed from, typically their planet of permanent residence.\n",
    "    CryoSleep - Indicates whether the passenger elected to be put into suspended animation for the duration of the voyage. Passengers in cryosleep are confined to their cabins.\n",
    "    Cabin - The cabin number where the passenger is staying. Takes the form deck/num/side, where side can be either P for Port or S for Starboard.\n",
    "    Destination - The planet the passenger will be debarking to.\n",
    "    Age - The age of the passenger.\n",
    "    VIP - Whether the passenger has paid for special VIP service during the voyage.\n",
    "    RoomService, FoodCourt, ShoppingMall, Spa, VRDeck - Amount the passenger has billed at each of the Spaceship Titanic's many luxury amenities.\n",
    "    Name - The first and last names of the passenger.\n",
    "    Transported - Whether the passenger was transported to another dimension. This is the target, the column you are trying to predict.\n",
    "\n",
    "---"
   ]
  },
  {
   "cell_type": "code",
   "execution_count": 2,
   "id": "7fb75317-7532-4e52-a98d-5fc2a58ac60e",
   "metadata": {},
   "outputs": [
    {
     "data": {
      "text/html": [
       "<div>\n",
       "<style scoped>\n",
       "    .dataframe tbody tr th:only-of-type {\n",
       "        vertical-align: middle;\n",
       "    }\n",
       "\n",
       "    .dataframe tbody tr th {\n",
       "        vertical-align: top;\n",
       "    }\n",
       "\n",
       "    .dataframe thead th {\n",
       "        text-align: right;\n",
       "    }\n",
       "</style>\n",
       "<table border=\"1\" class=\"dataframe\">\n",
       "  <thead>\n",
       "    <tr style=\"text-align: right;\">\n",
       "      <th></th>\n",
       "      <th>PassengerId</th>\n",
       "      <th>HomePlanet</th>\n",
       "      <th>CryoSleep</th>\n",
       "      <th>Cabin</th>\n",
       "      <th>Destination</th>\n",
       "      <th>Age</th>\n",
       "      <th>VIP</th>\n",
       "      <th>RoomService</th>\n",
       "      <th>FoodCourt</th>\n",
       "      <th>ShoppingMall</th>\n",
       "      <th>Spa</th>\n",
       "      <th>VRDeck</th>\n",
       "      <th>Name</th>\n",
       "      <th>Transported</th>\n",
       "    </tr>\n",
       "  </thead>\n",
       "  <tbody>\n",
       "    <tr>\n",
       "      <th>0</th>\n",
       "      <td>0001_01</td>\n",
       "      <td>Europa</td>\n",
       "      <td>False</td>\n",
       "      <td>B/0/P</td>\n",
       "      <td>TRAPPIST-1e</td>\n",
       "      <td>39.0</td>\n",
       "      <td>False</td>\n",
       "      <td>0.0</td>\n",
       "      <td>0.0</td>\n",
       "      <td>0.0</td>\n",
       "      <td>0.0</td>\n",
       "      <td>0.0</td>\n",
       "      <td>Maham Ofracculy</td>\n",
       "      <td>False</td>\n",
       "    </tr>\n",
       "    <tr>\n",
       "      <th>1</th>\n",
       "      <td>0002_01</td>\n",
       "      <td>Earth</td>\n",
       "      <td>False</td>\n",
       "      <td>F/0/S</td>\n",
       "      <td>TRAPPIST-1e</td>\n",
       "      <td>24.0</td>\n",
       "      <td>False</td>\n",
       "      <td>109.0</td>\n",
       "      <td>9.0</td>\n",
       "      <td>25.0</td>\n",
       "      <td>549.0</td>\n",
       "      <td>44.0</td>\n",
       "      <td>Juanna Vines</td>\n",
       "      <td>True</td>\n",
       "    </tr>\n",
       "    <tr>\n",
       "      <th>2</th>\n",
       "      <td>0003_01</td>\n",
       "      <td>Europa</td>\n",
       "      <td>False</td>\n",
       "      <td>A/0/S</td>\n",
       "      <td>TRAPPIST-1e</td>\n",
       "      <td>58.0</td>\n",
       "      <td>True</td>\n",
       "      <td>43.0</td>\n",
       "      <td>3576.0</td>\n",
       "      <td>0.0</td>\n",
       "      <td>6715.0</td>\n",
       "      <td>49.0</td>\n",
       "      <td>Altark Susent</td>\n",
       "      <td>False</td>\n",
       "    </tr>\n",
       "    <tr>\n",
       "      <th>3</th>\n",
       "      <td>0003_02</td>\n",
       "      <td>Europa</td>\n",
       "      <td>False</td>\n",
       "      <td>A/0/S</td>\n",
       "      <td>TRAPPIST-1e</td>\n",
       "      <td>33.0</td>\n",
       "      <td>False</td>\n",
       "      <td>0.0</td>\n",
       "      <td>1283.0</td>\n",
       "      <td>371.0</td>\n",
       "      <td>3329.0</td>\n",
       "      <td>193.0</td>\n",
       "      <td>Solam Susent</td>\n",
       "      <td>False</td>\n",
       "    </tr>\n",
       "    <tr>\n",
       "      <th>4</th>\n",
       "      <td>0004_01</td>\n",
       "      <td>Earth</td>\n",
       "      <td>False</td>\n",
       "      <td>F/1/S</td>\n",
       "      <td>TRAPPIST-1e</td>\n",
       "      <td>16.0</td>\n",
       "      <td>False</td>\n",
       "      <td>303.0</td>\n",
       "      <td>70.0</td>\n",
       "      <td>151.0</td>\n",
       "      <td>565.0</td>\n",
       "      <td>2.0</td>\n",
       "      <td>Willy Santantines</td>\n",
       "      <td>True</td>\n",
       "    </tr>\n",
       "  </tbody>\n",
       "</table>\n",
       "</div>"
      ],
      "text/plain": [
       "  PassengerId HomePlanet CryoSleep  Cabin  Destination   Age    VIP  \\\n",
       "0     0001_01     Europa     False  B/0/P  TRAPPIST-1e  39.0  False   \n",
       "1     0002_01      Earth     False  F/0/S  TRAPPIST-1e  24.0  False   \n",
       "2     0003_01     Europa     False  A/0/S  TRAPPIST-1e  58.0   True   \n",
       "3     0003_02     Europa     False  A/0/S  TRAPPIST-1e  33.0  False   \n",
       "4     0004_01      Earth     False  F/1/S  TRAPPIST-1e  16.0  False   \n",
       "\n",
       "   RoomService  FoodCourt  ShoppingMall     Spa  VRDeck               Name  \\\n",
       "0          0.0        0.0           0.0     0.0     0.0    Maham Ofracculy   \n",
       "1        109.0        9.0          25.0   549.0    44.0       Juanna Vines   \n",
       "2         43.0     3576.0           0.0  6715.0    49.0      Altark Susent   \n",
       "3          0.0     1283.0         371.0  3329.0   193.0       Solam Susent   \n",
       "4        303.0       70.0         151.0   565.0     2.0  Willy Santantines   \n",
       "\n",
       "   Transported  \n",
       "0        False  \n",
       "1         True  \n",
       "2        False  \n",
       "3        False  \n",
       "4         True  "
      ]
     },
     "execution_count": 2,
     "metadata": {},
     "output_type": "execute_result"
    }
   ],
   "source": [
    "df_train = pd.read_csv(\"../../DATA/kaggle/spaceship-titanic/train.csv\")\n",
    "df_train.head()"
   ]
  },
  {
   "cell_type": "code",
   "execution_count": 3,
   "id": "459556f0-900a-4478-ad80-a042887e9c7a",
   "metadata": {},
   "outputs": [
    {
     "data": {
      "text/plain": [
       "array([False,  True])"
      ]
     },
     "execution_count": 3,
     "metadata": {},
     "output_type": "execute_result"
    }
   ],
   "source": [
    "df_train['Transported'].unique()"
   ]
  },
  {
   "cell_type": "markdown",
   "id": "18411cd8-a65f-40f9-a6a9-da608a06e5c0",
   "metadata": {},
   "source": [
    "## Goal definition\n",
    "**Predict whether a passenger was transported to an alternate dimension during the Spaceship Titanic's collision with the spacetime anomaly**\\\n",
    "\\\n",
    "The problem refers to classification."
   ]
  },
  {
   "cell_type": "markdown",
   "id": "d5594d41-31a2-4e60-810d-0e7e0e10d8c0",
   "metadata": {},
   "source": [
    "## Exploratory Data Analysis and Visualisations"
   ]
  },
  {
   "cell_type": "markdown",
   "id": "b3670e4e-f208-419f-b220-a9749740254e",
   "metadata": {},
   "source": [
    "#### Basic Exploration"
   ]
  },
  {
   "cell_type": "code",
   "execution_count": 4,
   "id": "606c2a43-ddda-4862-8083-adbd81515b90",
   "metadata": {},
   "outputs": [
    {
     "name": "stdout",
     "output_type": "stream",
     "text": [
      "<class 'pandas.core.frame.DataFrame'>\n",
      "RangeIndex: 8693 entries, 0 to 8692\n",
      "Data columns (total 14 columns):\n",
      " #   Column        Non-Null Count  Dtype  \n",
      "---  ------        --------------  -----  \n",
      " 0   PassengerId   8693 non-null   object \n",
      " 1   HomePlanet    8492 non-null   object \n",
      " 2   CryoSleep     8476 non-null   object \n",
      " 3   Cabin         8494 non-null   object \n",
      " 4   Destination   8511 non-null   object \n",
      " 5   Age           8514 non-null   float64\n",
      " 6   VIP           8490 non-null   object \n",
      " 7   RoomService   8512 non-null   float64\n",
      " 8   FoodCourt     8510 non-null   float64\n",
      " 9   ShoppingMall  8485 non-null   float64\n",
      " 10  Spa           8510 non-null   float64\n",
      " 11  VRDeck        8505 non-null   float64\n",
      " 12  Name          8493 non-null   object \n",
      " 13  Transported   8693 non-null   bool   \n",
      "dtypes: bool(1), float64(6), object(7)\n",
      "memory usage: 891.5+ KB\n"
     ]
    }
   ],
   "source": [
    "df_train.info()"
   ]
  },
  {
   "cell_type": "code",
   "execution_count": 5,
   "id": "102e074b-e3ea-4b65-bfc3-9141bca1179c",
   "metadata": {},
   "outputs": [
    {
     "data": {
      "text/plain": [
       "(8693, 14)"
      ]
     },
     "execution_count": 5,
     "metadata": {},
     "output_type": "execute_result"
    }
   ],
   "source": [
    "df_train.shape"
   ]
  },
  {
   "cell_type": "markdown",
   "id": "956f7384-6580-4ae8-a90e-5af93794cb8c",
   "metadata": {},
   "source": [
    "#### Duplicates"
   ]
  },
  {
   "cell_type": "code",
   "execution_count": 6,
   "id": "9f4f06d4-cd48-43d6-a615-d4c0f734ce87",
   "metadata": {},
   "outputs": [
    {
     "data": {
      "text/plain": [
       "np.int64(0)"
      ]
     },
     "execution_count": 6,
     "metadata": {},
     "output_type": "execute_result"
    }
   ],
   "source": [
    "df_train.duplicated().sum()"
   ]
  },
  {
   "cell_type": "markdown",
   "id": "68ea7f10-b165-4adc-8469-826c9cbb6289",
   "metadata": {},
   "source": [
    "#### Missing values"
   ]
  },
  {
   "cell_type": "code",
   "execution_count": 7,
   "id": "1d73b7d6-00b9-4214-9fc8-0ab72a815180",
   "metadata": {},
   "outputs": [
    {
     "data": {
      "text/plain": [
       "Age             179\n",
       "RoomService     181\n",
       "Destination     182\n",
       "FoodCourt       183\n",
       "Spa             183\n",
       "VRDeck          188\n",
       "Cabin           199\n",
       "Name            200\n",
       "HomePlanet      201\n",
       "VIP             203\n",
       "ShoppingMall    208\n",
       "CryoSleep       217\n",
       "dtype: int64"
      ]
     },
     "execution_count": 7,
     "metadata": {},
     "output_type": "execute_result"
    }
   ],
   "source": [
    "df_train.isnull().sum()[df_train.isnull().sum() > 0].sort_values()"
   ]
  },
  {
   "cell_type": "markdown",
   "id": "487e5003-275d-47dd-a27a-3152b1e5c797",
   "metadata": {},
   "source": [
    "#### Feature engineering - missing values and visualisations"
   ]
  },
  {
   "cell_type": "code",
   "execution_count": 8,
   "id": "952624c6-dbe9-4983-8636-6d90e290e924",
   "metadata": {},
   "outputs": [],
   "source": [
    "def percent_missing(df):\n",
    "    percent_nan = 100 * df.isnull().sum() / len(df)\n",
    "    percent_nan = percent_nan[percent_nan > 0].sort_values()\n",
    "    return percent_nan\n",
    "\n",
    "def show_missing(percent_nan):\n",
    "    plt.figure(figsize=(5,4))\n",
    "    sns.barplot(x=percent_nan.index, y=percent_nan, hue=percent_nan.index, palette='hls')\n",
    "    plt.xticks(rotation=90)\n",
    "    plt.xlabel('Missing values column name')\n",
    "    plt.ylabel('% of missing values')\n",
    "    plt.show()"
   ]
  },
  {
   "cell_type": "code",
   "execution_count": 9,
   "id": "5a7bc8d4-9434-4726-ba79-f772efc99a4d",
   "metadata": {},
   "outputs": [],
   "source": [
    "percent_nan = percent_missing(df_train)"
   ]
  },
  {
   "cell_type": "code",
   "execution_count": 10,
   "id": "8c230798-43e7-4225-8558-26611bd890fb",
   "metadata": {},
   "outputs": [
    {
     "data": {
      "image/png": "[encoded data removed]",
      "text/plain": [
       "<Figure size 500x400 with 1 Axes>"
      ]
     },
     "metadata": {},
     "output_type": "display_data"
    }
   ],
   "source": [
    "show_missing(percent_nan)"
   ]
  },
  {
   "cell_type": "markdown",
   "id": "0173037e-444f-4b23-94d1-62ac7f4cf89b",
   "metadata": {},
   "source": [
    "##### Feature engineering - missing values"
   ]
  },
  {
   "cell_type": "code",
   "execution_count": 11,
   "id": "3552153c-8eda-4bc8-adae-b49724ae6611",
   "metadata": {},
   "outputs": [],
   "source": [
    "# PassengerId -> split into gggg and pp\n",
    "df_train[['Passenger_group', 'Passenger_id']] = df_train['PassengerId'].str.split('_', expand=True).astype(int)\n",
    "df_train = df_train.drop(['PassengerId', 'Name'], axis=1)"
   ]
  },
  {
   "cell_type": "code",
   "execution_count": 12,
   "id": "fb922cb7-9133-486f-98e9-6f1ebe23a079",
   "metadata": {},
   "outputs": [],
   "source": [
    "# If the same gggg -> if null for some pp -> same cabin, cryosleep and home planet\n",
    "common_features_cols = ['HomePlanet', 'Cabin', 'CryoSleep']\n",
    "df_train = df_train.convert_dtypes()\n",
    "\n",
    "for col in common_features_cols:\n",
    "    df_train[col] = df_train.groupby('Passenger_group', group_keys=False)[col].apply(lambda x: x.ffill().bfill())\n",
    "\n",
    "df_train = df_train.drop(['Passenger_group', 'Passenger_id'], axis=1)"
   ]
  },
  {
   "cell_type": "code",
   "execution_count": 13,
   "id": "d36ad039-b38c-4d2f-a833-a067eaf64fae",
   "metadata": {},
   "outputs": [],
   "source": [
    "amenities_cols = ['RoomService','FoodCourt','ShoppingMall','Spa','VRDeck']"
   ]
  },
  {
   "cell_type": "code",
   "execution_count": 14,
   "id": "5bf014c7-b8bf-4174-ba2c-22b6e80decb1",
   "metadata": {},
   "outputs": [],
   "source": [
    "# If all of the passengers amenities are 0.0, probably passenger is elected to be put into suspended animation for the duration of the voyage\n",
    "df_train.loc[df_train[amenities_cols].sum(axis=1) == 0, 'CryoSleep'] = True\n",
    "df_train.loc[df_train[amenities_cols].sum(axis=1) != 0, 'CryoSleep'] = False"
   ]
  },
  {
   "cell_type": "code",
   "execution_count": 15,
   "id": "32263db8-adaf-451b-aed0-a3c3cd7466fd",
   "metadata": {},
   "outputs": [],
   "source": [
    "# If the passenger is NOT elected to be put into suspended animation for the duration of the voyage, amenities should be [???]\n",
    "df_train.loc[df_train['CryoSleep'] == False, amenities_cols] = df_train.loc[df_train['CryoSleep'] == False, amenities_cols].fillna(0)"
   ]
  },
  {
   "cell_type": "code",
   "execution_count": 16,
   "id": "a81edfc0-5442-4ec6-b49c-c7d0486e0864",
   "metadata": {},
   "outputs": [],
   "source": [
    "# If the passenger is elected to be put into suspended animation for the duration of the voyage, amenities should be 0.0\n",
    "amenities_cols = ['RoomService','FoodCourt','ShoppingMall','Spa','VRDeck']\n",
    "df_train.loc[df_train['CryoSleep'] == True, amenities_cols] = df_train.loc[df_train['CryoSleep'] == True, amenities_cols].fillna(0)"
   ]
  },
  {
   "cell_type": "code",
   "execution_count": 17,
   "id": "46fbbcf2-72eb-4d6d-9292-fd3e48d72511",
   "metadata": {},
   "outputs": [
    {
     "data": {
      "text/plain": [
       "RoomService    -0.241124\n",
       "Spa            -0.218545\n",
       "VRDeck         -0.204874\n",
       "Age            -0.075026\n",
       "ShoppingMall    0.009391\n",
       "FoodCourt       0.045583\n",
       "dtype: float64"
      ]
     },
     "execution_count": 17,
     "metadata": {},
     "output_type": "execute_result"
    }
   ],
   "source": [
    "df_train_nums = df_train.select_dtypes(include='Int64')\n",
    "df_train_nums.corrwith(df_train['Transported']).sort_values()"
   ]
  },
  {
   "cell_type": "code",
   "execution_count": 18,
   "id": "798f07bb-8e83-49e6-b572-072bdf0973e8",
   "metadata": {},
   "outputs": [
    {
     "data": {
      "image/png": "[encoded data removed]",
      "text/plain": [
       "<Figure size 500x400 with 1 Axes>"
      ]
     },
     "metadata": {},
     "output_type": "display_data"
    }
   ],
   "source": [
    "percent_nan = percent_missing(df_train)\n",
    "show_missing(percent_nan)"
   ]
  },
  {
   "cell_type": "markdown",
   "id": "a2b9d6d1-145d-4bbd-938e-52b9abf17bd1",
   "metadata": {},
   "source": [
    "###### VIP column - NA value"
   ]
  },
  {
   "cell_type": "code",
   "execution_count": 19,
   "id": "8b722f0a-cd66-408d-a165-66fc76ab03c8",
   "metadata": {},
   "outputs": [
    {
     "data": {
      "text/plain": [
       "<Axes: xlabel='VIP', ylabel='count'>"
      ]
     },
     "execution_count": 19,
     "metadata": {},
     "output_type": "execute_result"
    },
    {
     "data": {
      "image/png": "[encoded data removed]",
      "text/plain": [
       "<Figure size 300x300 with 1 Axes>"
      ]
     },
     "metadata": {},
     "output_type": "display_data"
    }
   ],
   "source": [
    "plt.figure(figsize=(3,3))\n",
    "bool_with_na = df_train['VIP'].astype(str).fillna(\"Unknown\")\n",
    "sns.countplot(data=df_train, x=bool_with_na, hue=bool_with_na)"
   ]
  },
  {
   "cell_type": "code",
   "execution_count": 20,
   "id": "ccefbcce-caec-4927-8a92-117a687aacb7",
   "metadata": {},
   "outputs": [],
   "source": [
    "vip_most_val = df_train['VIP'].value_counts().sort_values().index[-1]\n",
    "df_train['VIP'] = df_train['VIP'].fillna(vip_most_val)"
   ]
  },
  {
   "cell_type": "markdown",
   "id": "13cdaaad-45b5-4952-b3da-55dea1140b0f",
   "metadata": {},
   "source": [
    "###### Destination column - NA value"
   ]
  },
  {
   "cell_type": "code",
   "execution_count": 21,
   "id": "f04af440-9158-40f7-92e7-b67d344190cf",
   "metadata": {},
   "outputs": [
    {
     "data": {
      "image/png": "[encoded data removed]",
      "text/plain": [
       "<Figure size 300x300 with 1 Axes>"
      ]
     },
     "metadata": {},
     "output_type": "display_data"
    }
   ],
   "source": [
    "plt.figure(figsize=(3,3))\n",
    "sns.countplot(data=df_train, x='Destination', hue='Destination')\n",
    "plt.xticks(rotation=15)\n",
    "plt.show()"
   ]
  },
  {
   "cell_type": "code",
   "execution_count": 22,
   "id": "2fd2a0b1-4f5e-4546-a54b-c630fbf0bc6d",
   "metadata": {},
   "outputs": [],
   "source": [
    "dest_most_val = df_train['Destination'].value_counts().sort_values().index[-1]\n",
    "df_train['Destination'] = df_train['Destination'].fillna(dest_most_val)"
   ]
  },
  {
   "cell_type": "markdown",
   "id": "1158619b-a8b9-4e9a-8817-b7ea4274b8e6",
   "metadata": {},
   "source": [
    "###### HomePlanet column - NA value"
   ]
  },
  {
   "cell_type": "code",
   "execution_count": 23,
   "id": "b64a62db-4afa-4a0f-ac68-57a7d9c2fc4a",
   "metadata": {},
   "outputs": [
    {
     "data": {
      "text/plain": [
       "<Axes: xlabel='HomePlanet', ylabel='count'>"
      ]
     },
     "execution_count": 23,
     "metadata": {},
     "output_type": "execute_result"
    },
    {
     "data": {
      "image/png": "[encoded data removed]",
      "text/plain": [
       "<Figure size 300x300 with 1 Axes>"
      ]
     },
     "metadata": {},
     "output_type": "display_data"
    }
   ],
   "source": [
    "plt.figure(figsize=(3,3))\n",
    "sns.countplot(data=df_train, x='HomePlanet', hue='HomePlanet')"
   ]
  },
  {
   "cell_type": "code",
   "execution_count": 24,
   "id": "6b9a00ab-3b93-4a43-85d3-2e5096da388d",
   "metadata": {},
   "outputs": [],
   "source": [
    "hp_most_val = df_train['HomePlanet'].value_counts().sort_values().index[-1]\n",
    "df_train['HomePlanet'] = df_train['HomePlanet'].fillna(hp_most_val)"
   ]
  },
  {
   "cell_type": "markdown",
   "id": "8f87d3c7-7945-4dc9-8c5f-33cb7c3a4eb3",
   "metadata": {},
   "source": [
    "###### Age column - NA value"
   ]
  },
  {
   "cell_type": "code",
   "execution_count": 25,
   "id": "a7e07e80-c7cc-45e2-bade-8ce1b5bd4566",
   "metadata": {},
   "outputs": [
    {
     "data": {
      "text/plain": [
       "<seaborn.axisgrid.FacetGrid at 0x1af81c3ae40>"
      ]
     },
     "execution_count": 25,
     "metadata": {},
     "output_type": "execute_result"
    },
    {
     "data": {
      "image/png": "[encoded data removed]",
      "text/plain": [
       "<Figure size 350x350 with 1 Axes>"
      ]
     },
     "metadata": {},
     "output_type": "display_data"
    }
   ],
   "source": [
    "sns.displot(data=df_train, x='Age', height=3.5)"
   ]
  },
  {
   "cell_type": "code",
   "execution_count": 26,
   "id": "7fe0c35a-71c6-4167-ac5a-8f702d39314b",
   "metadata": {},
   "outputs": [],
   "source": [
    "df_train['Age'] = df_train['Age'].fillna(int(df_train['Age'].mean()))"
   ]
  },
  {
   "cell_type": "markdown",
   "id": "3b476fdb-30c6-41ff-8e9f-84b11830f2be",
   "metadata": {},
   "source": [
    "###### Cabin - NA value"
   ]
  },
  {
   "cell_type": "code",
   "execution_count": 27,
   "id": "d91dc5d1-190b-475f-a6cd-b553864dc47b",
   "metadata": {},
   "outputs": [
    {
     "data": {
      "text/plain": [
       "6561"
      ]
     },
     "execution_count": 27,
     "metadata": {},
     "output_type": "execute_result"
    }
   ],
   "source": [
    "# Unique values\n",
    "len(df_train['Cabin'].unique())"
   ]
  },
  {
   "cell_type": "code",
   "execution_count": 28,
   "id": "e7bdd5e3-ddd1-4178-9473-a1c864ed7f55",
   "metadata": {},
   "outputs": [],
   "source": [
    "# Cabin -> split into deck, num and side\n",
    "df_train[['Cabin_deck', 'Cabin_num', 'Cabin_side']] = df_train['Cabin'].str.split('/', expand=True)"
   ]
  },
  {
   "cell_type": "code",
   "execution_count": 29,
   "id": "e4c8f064-0f5f-4360-b067-f59be1a98922",
   "metadata": {},
   "outputs": [
    {
     "data": {
      "text/plain": [
       "Cabin_deck\n",
       "F    2808\n",
       "G    2589\n",
       "E     886\n",
       "B     796\n",
       "C     761\n",
       "D     487\n",
       "A     262\n",
       "T       5\n",
       "Name: count, dtype: Int64"
      ]
     },
     "execution_count": 29,
     "metadata": {},
     "output_type": "execute_result"
    }
   ],
   "source": [
    "df_train['Cabin_deck'].value_counts()"
   ]
  },
  {
   "cell_type": "code",
   "execution_count": 30,
   "id": "557f346c-b70f-4004-a688-b89d13ed9bae",
   "metadata": {},
   "outputs": [
    {
     "data": {
      "text/plain": [
       "np.float64(-0.1078453089529459)"
      ]
     },
     "execution_count": 30,
     "metadata": {},
     "output_type": "execute_result"
    }
   ],
   "source": [
    "df_train['Cabin_deck'].astype('category').cat.codes.corr(df_train['Transported'])"
   ]
  },
  {
   "cell_type": "code",
   "execution_count": 31,
   "id": "678c2829-194e-4fe6-8a7a-3f9421fea4a7",
   "metadata": {},
   "outputs": [
    {
     "data": {
      "text/plain": [
       "Cabin_num\n",
       "82      28\n",
       "86      22\n",
       "19      22\n",
       "97      21\n",
       "176     21\n",
       "        ..\n",
       "1866     1\n",
       "1867     1\n",
       "1868     1\n",
       "1870     1\n",
       "1884     1\n",
       "Name: count, Length: 1817, dtype: Int64"
      ]
     },
     "execution_count": 31,
     "metadata": {},
     "output_type": "execute_result"
    }
   ],
   "source": [
    "df_train['Cabin_num'].value_counts()"
   ]
  },
  {
   "cell_type": "code",
   "execution_count": 32,
   "id": "e0b368be-ca1e-441a-8d35-c9316269194b",
   "metadata": {},
   "outputs": [
    {
     "data": {
      "text/plain": [
       "np.float64(0.02204992622585008)"
      ]
     },
     "execution_count": 32,
     "metadata": {},
     "output_type": "execute_result"
    }
   ],
   "source": [
    "df_train['Cabin_num'].astype('category').cat.codes.corr(df_train['Transported'])"
   ]
  },
  {
   "cell_type": "code",
   "execution_count": 33,
   "id": "55b5e5f0-85d1-45ac-82d0-dac99e523e9e",
   "metadata": {},
   "outputs": [
    {
     "data": {
      "text/plain": [
       "Cabin_side\n",
       "S    4343\n",
       "P    4251\n",
       "Name: count, dtype: Int64"
      ]
     },
     "execution_count": 33,
     "metadata": {},
     "output_type": "execute_result"
    }
   ],
   "source": [
    "df_train['Cabin_side'].value_counts()"
   ]
  },
  {
   "cell_type": "code",
   "execution_count": 34,
   "id": "c1289f2f-cfe2-42ec-b065-1b643df9ff39",
   "metadata": {},
   "outputs": [
    {
     "data": {
      "text/plain": [
       "<IntegerArray>\n",
       "[4343, 4251]\n",
       "Length: 2, dtype: Int64"
      ]
     },
     "execution_count": 34,
     "metadata": {},
     "output_type": "execute_result"
    }
   ],
   "source": [
    "df_train['Cabin_side'].value_counts().values"
   ]
  },
  {
   "cell_type": "code",
   "execution_count": 35,
   "id": "b1c08867-ac8d-43c5-a6d4-eb23ad0b59ae",
   "metadata": {},
   "outputs": [
    {
     "data": {
      "text/plain": [
       "np.float64(0.10206041096663274)"
      ]
     },
     "execution_count": 35,
     "metadata": {},
     "output_type": "execute_result"
    }
   ],
   "source": [
    "df_train['Cabin_side'].astype('category').cat.codes.corr(df_train['Transported'])"
   ]
  },
  {
   "cell_type": "code",
   "execution_count": 36,
   "id": "1e2d935c-9899-445b-8114-94d521eca223",
   "metadata": {},
   "outputs": [],
   "source": [
    "# Correlation with Cabin_num is not so important, so it can be deleted\n",
    "df_train = df_train.drop(['Cabin', 'Cabin_num'], axis=1)"
   ]
  },
  {
   "cell_type": "code",
   "execution_count": 37,
   "id": "3d79a37a-fd23-4678-8e36-abd86a62149e",
   "metadata": {},
   "outputs": [],
   "source": [
    "# Filling cabin deck\n",
    "value_counts = df_train['Cabin_deck'].value_counts()\n",
    "idx_cabin_deck = value_counts.index\n",
    "val_cabin_deck = value_counts.values\n",
    "\n",
    "probabilities = val_cabin_deck / val_cabin_deck.sum()\n",
    "\n",
    "df_train.loc[df_train['Cabin_deck'].isna(), 'Cabin_deck'] = np.random.choice(idx_cabin_deck, size=df_train['Cabin_deck'].isna().sum(), p=probabilities)"
   ]
  },
  {
   "cell_type": "code",
   "execution_count": 38,
   "id": "6b48d68c-ecd1-4650-b6dc-2106c2567df2",
   "metadata": {},
   "outputs": [],
   "source": [
    "# Filling cabin side\n",
    "value_counts = df_train['Cabin_side'].value_counts()\n",
    "idx_cabin_side = value_counts.index\n",
    "val_cabin_side = value_counts.values\n",
    "\n",
    "probabilities = val_cabin_side / val_cabin_side.sum()\n",
    "\n",
    "df_train.loc[df_train['Cabin_side'].isna(), 'Cabin_side'] = np.random.choice(idx_cabin_side, size=df_train['Cabin_side'].isna().sum(), p=probabilities)"
   ]
  },
  {
   "cell_type": "markdown",
   "id": "94ff2a3c-7f3a-46f2-bd49-d9de580d07ea",
   "metadata": {},
   "source": [
    "###### Final check NA value"
   ]
  },
  {
   "cell_type": "code",
   "execution_count": 39,
   "id": "34e27be0-1f2a-44de-9759-0a795aa13890",
   "metadata": {},
   "outputs": [
    {
     "data": {
      "image/png": "[encoded data removed]",
      "text/plain": [
       "<Figure size 500x400 with 1 Axes>"
      ]
     },
     "metadata": {},
     "output_type": "display_data"
    }
   ],
   "source": [
    "percent_nan = percent_missing(df_train)\n",
    "show_missing(percent_nan)"
   ]
  },
  {
   "cell_type": "markdown",
   "id": "1ab1bf5e-b50b-4fc6-91ec-71db801bcb5c",
   "metadata": {
    "jp-MarkdownHeadingCollapsed": true
   },
   "source": [
    "##### Conclusions\n",
    "Split PassengerId -> Passenger_group, Passenger_id columns\\\n",
    "Split Cabin -> Cabin_deck, Cabin_num, Cabin_side columns\\\n",
    "Drop PassengerId, Cabin and Cabin_num\\\n",
    "Drop Passenger_group and Passenger_id after feature engineering"
   ]
  },
  {
   "cell_type": "markdown",
   "id": "0efbf726-ba5e-428c-968c-5f7f9a0c08b5",
   "metadata": {},
   "source": [
    "#### Statistical analysis"
   ]
  },
  {
   "cell_type": "code",
   "execution_count": 40,
   "id": "1b9114fe-d9f2-4aca-83dd-a2a96e7e7ef2",
   "metadata": {},
   "outputs": [
    {
     "data": {
      "text/html": [
       "<div>\n",
       "<style scoped>\n",
       "    .dataframe tbody tr th:only-of-type {\n",
       "        vertical-align: middle;\n",
       "    }\n",
       "\n",
       "    .dataframe tbody tr th {\n",
       "        vertical-align: top;\n",
       "    }\n",
       "\n",
       "    .dataframe thead th {\n",
       "        text-align: right;\n",
       "    }\n",
       "</style>\n",
       "<table border=\"1\" class=\"dataframe\">\n",
       "  <thead>\n",
       "    <tr style=\"text-align: right;\">\n",
       "      <th></th>\n",
       "      <th>Age</th>\n",
       "      <th>RoomService</th>\n",
       "      <th>FoodCourt</th>\n",
       "      <th>ShoppingMall</th>\n",
       "      <th>Spa</th>\n",
       "      <th>VRDeck</th>\n",
       "    </tr>\n",
       "  </thead>\n",
       "  <tbody>\n",
       "    <tr>\n",
       "      <th>count</th>\n",
       "      <td>8693.0</td>\n",
       "      <td>8693.0</td>\n",
       "      <td>8693.0</td>\n",
       "      <td>8693.0</td>\n",
       "      <td>8693.0</td>\n",
       "      <td>8693.0</td>\n",
       "    </tr>\n",
       "    <tr>\n",
       "      <th>mean</th>\n",
       "      <td>28.810882</td>\n",
       "      <td>220.009318</td>\n",
       "      <td>448.434027</td>\n",
       "      <td>169.5723</td>\n",
       "      <td>304.588865</td>\n",
       "      <td>298.26182</td>\n",
       "    </tr>\n",
       "    <tr>\n",
       "      <th>std</th>\n",
       "      <td>14.339536</td>\n",
       "      <td>660.51905</td>\n",
       "      <td>1595.790627</td>\n",
       "      <td>598.007164</td>\n",
       "      <td>1125.562559</td>\n",
       "      <td>1134.126417</td>\n",
       "    </tr>\n",
       "    <tr>\n",
       "      <th>min</th>\n",
       "      <td>0.0</td>\n",
       "      <td>0.0</td>\n",
       "      <td>0.0</td>\n",
       "      <td>0.0</td>\n",
       "      <td>0.0</td>\n",
       "      <td>0.0</td>\n",
       "    </tr>\n",
       "    <tr>\n",
       "      <th>25%</th>\n",
       "      <td>20.0</td>\n",
       "      <td>0.0</td>\n",
       "      <td>0.0</td>\n",
       "      <td>0.0</td>\n",
       "      <td>0.0</td>\n",
       "      <td>0.0</td>\n",
       "    </tr>\n",
       "    <tr>\n",
       "      <th>50%</th>\n",
       "      <td>27.0</td>\n",
       "      <td>0.0</td>\n",
       "      <td>0.0</td>\n",
       "      <td>0.0</td>\n",
       "      <td>0.0</td>\n",
       "      <td>0.0</td>\n",
       "    </tr>\n",
       "    <tr>\n",
       "      <th>75%</th>\n",
       "      <td>37.0</td>\n",
       "      <td>41.0</td>\n",
       "      <td>61.0</td>\n",
       "      <td>22.0</td>\n",
       "      <td>53.0</td>\n",
       "      <td>40.0</td>\n",
       "    </tr>\n",
       "    <tr>\n",
       "      <th>max</th>\n",
       "      <td>79.0</td>\n",
       "      <td>14327.0</td>\n",
       "      <td>29813.0</td>\n",
       "      <td>23492.0</td>\n",
       "      <td>22408.0</td>\n",
       "      <td>24133.0</td>\n",
       "    </tr>\n",
       "  </tbody>\n",
       "</table>\n",
       "</div>"
      ],
      "text/plain": [
       "             Age  RoomService    FoodCourt  ShoppingMall          Spa  \\\n",
       "count     8693.0       8693.0       8693.0        8693.0       8693.0   \n",
       "mean   28.810882   220.009318   448.434027      169.5723   304.588865   \n",
       "std    14.339536    660.51905  1595.790627    598.007164  1125.562559   \n",
       "min          0.0          0.0          0.0           0.0          0.0   \n",
       "25%         20.0          0.0          0.0           0.0          0.0   \n",
       "50%         27.0          0.0          0.0           0.0          0.0   \n",
       "75%         37.0         41.0         61.0          22.0         53.0   \n",
       "max         79.0      14327.0      29813.0       23492.0      22408.0   \n",
       "\n",
       "            VRDeck  \n",
       "count       8693.0  \n",
       "mean     298.26182  \n",
       "std    1134.126417  \n",
       "min            0.0  \n",
       "25%            0.0  \n",
       "50%            0.0  \n",
       "75%           40.0  \n",
       "max        24133.0  "
      ]
     },
     "execution_count": 40,
     "metadata": {},
     "output_type": "execute_result"
    }
   ],
   "source": [
    "df_train.describe()"
   ]
  },
  {
   "cell_type": "code",
   "execution_count": 41,
   "id": "e595e789-8006-466c-8ef8-abe4595d121c",
   "metadata": {},
   "outputs": [
    {
     "data": {
      "text/html": [
       "<div>\n",
       "<style scoped>\n",
       "    .dataframe tbody tr th:only-of-type {\n",
       "        vertical-align: middle;\n",
       "    }\n",
       "\n",
       "    .dataframe tbody tr th {\n",
       "        vertical-align: top;\n",
       "    }\n",
       "\n",
       "    .dataframe thead th {\n",
       "        text-align: right;\n",
       "    }\n",
       "</style>\n",
       "<table border=\"1\" class=\"dataframe\">\n",
       "  <thead>\n",
       "    <tr style=\"text-align: right;\">\n",
       "      <th></th>\n",
       "      <th>HomePlanet</th>\n",
       "      <th>Destination</th>\n",
       "      <th>Cabin_deck</th>\n",
       "      <th>Cabin_side</th>\n",
       "    </tr>\n",
       "  </thead>\n",
       "  <tbody>\n",
       "    <tr>\n",
       "      <th>count</th>\n",
       "      <td>8693</td>\n",
       "      <td>8693</td>\n",
       "      <td>8693</td>\n",
       "      <td>8693</td>\n",
       "    </tr>\n",
       "    <tr>\n",
       "      <th>unique</th>\n",
       "      <td>3</td>\n",
       "      <td>3</td>\n",
       "      <td>8</td>\n",
       "      <td>2</td>\n",
       "    </tr>\n",
       "    <tr>\n",
       "      <th>top</th>\n",
       "      <td>Earth</td>\n",
       "      <td>TRAPPIST-1e</td>\n",
       "      <td>F</td>\n",
       "      <td>S</td>\n",
       "    </tr>\n",
       "    <tr>\n",
       "      <th>freq</th>\n",
       "      <td>4745</td>\n",
       "      <td>6097</td>\n",
       "      <td>2836</td>\n",
       "      <td>4386</td>\n",
       "    </tr>\n",
       "  </tbody>\n",
       "</table>\n",
       "</div>"
      ],
      "text/plain": [
       "       HomePlanet  Destination Cabin_deck Cabin_side\n",
       "count        8693         8693       8693       8693\n",
       "unique          3            3          8          2\n",
       "top         Earth  TRAPPIST-1e          F          S\n",
       "freq         4745         6097       2836       4386"
      ]
     },
     "execution_count": 41,
     "metadata": {},
     "output_type": "execute_result"
    }
   ],
   "source": [
    "df_train.describe(include='string')"
   ]
  },
  {
   "cell_type": "code",
   "execution_count": 42,
   "id": "90d21e97-b1ea-4757-905c-ce884f24ca73",
   "metadata": {},
   "outputs": [
    {
     "data": {
      "text/html": [
       "<div>\n",
       "<style scoped>\n",
       "    .dataframe tbody tr th:only-of-type {\n",
       "        vertical-align: middle;\n",
       "    }\n",
       "\n",
       "    .dataframe tbody tr th {\n",
       "        vertical-align: top;\n",
       "    }\n",
       "\n",
       "    .dataframe thead th {\n",
       "        text-align: right;\n",
       "    }\n",
       "</style>\n",
       "<table border=\"1\" class=\"dataframe\">\n",
       "  <thead>\n",
       "    <tr style=\"text-align: right;\">\n",
       "      <th></th>\n",
       "      <th>CryoSleep</th>\n",
       "      <th>VIP</th>\n",
       "      <th>Transported</th>\n",
       "    </tr>\n",
       "  </thead>\n",
       "  <tbody>\n",
       "    <tr>\n",
       "      <th>count</th>\n",
       "      <td>8693</td>\n",
       "      <td>8693</td>\n",
       "      <td>8693</td>\n",
       "    </tr>\n",
       "    <tr>\n",
       "      <th>unique</th>\n",
       "      <td>2</td>\n",
       "      <td>2</td>\n",
       "      <td>2</td>\n",
       "    </tr>\n",
       "    <tr>\n",
       "      <th>top</th>\n",
       "      <td>False</td>\n",
       "      <td>False</td>\n",
       "      <td>True</td>\n",
       "    </tr>\n",
       "    <tr>\n",
       "      <th>freq</th>\n",
       "      <td>5040</td>\n",
       "      <td>8494</td>\n",
       "      <td>4378</td>\n",
       "    </tr>\n",
       "  </tbody>\n",
       "</table>\n",
       "</div>"
      ],
      "text/plain": [
       "       CryoSleep    VIP Transported\n",
       "count       8693   8693        8693\n",
       "unique         2      2           2\n",
       "top        False  False        True\n",
       "freq        5040   8494        4378"
      ]
     },
     "execution_count": 42,
     "metadata": {},
     "output_type": "execute_result"
    }
   ],
   "source": [
    "df_train.describe(include='boolean')"
   ]
  },
  {
   "cell_type": "code",
   "execution_count": 43,
   "id": "dcee74dd-caf6-4532-9f58-b3367e8a5748",
   "metadata": {},
   "outputs": [
    {
     "data": {
      "text/plain": [
       "RoomService                 -0.241124\n",
       "Spa                         -0.218545\n",
       "VRDeck                      -0.204874\n",
       "Cabin_deck_E                -0.096954\n",
       "Destination_TRAPPIST-1e     -0.096319\n",
       "Cabin_deck_F                -0.088469\n",
       "Age                         -0.074245\n",
       "VIP                         -0.037261\n",
       "Cabin_deck_D                -0.034049\n",
       "Cabin_deck_T                -0.014568\n",
       "Destination_PSO J318.5-22    0.000092\n",
       "ShoppingMall                 0.009391\n",
       "Cabin_deck_G                 0.014534\n",
       "HomePlanet_Mars              0.019941\n",
       "FoodCourt                    0.045583\n",
       "Cabin_side_S                 0.101747\n",
       "Cabin_deck_C                 0.107867\n",
       "Cabin_deck_B                 0.144772\n",
       "HomePlanet_Europa            0.179756\n",
       "CryoSleep                    0.481628\n",
       "Transported                  1.000000\n",
       "Name: Transported, dtype: float64"
      ]
     },
     "execution_count": 43,
     "metadata": {},
     "output_type": "execute_result"
    }
   ],
   "source": [
    "df_train_dummies = pd.get_dummies(df_train, drop_first=True)\n",
    "df_train_dummies.corr()['Transported'].sort_values()"
   ]
  },
  {
   "cell_type": "code",
   "execution_count": 44,
   "id": "6a23dc96-6180-4ad4-8461-04cfc76087d1",
   "metadata": {},
   "outputs": [
    {
     "data": {
      "text/plain": [
       "<Axes: >"
      ]
     },
     "execution_count": 44,
     "metadata": {},
     "output_type": "execute_result"
    },
    {
     "data": {
      "image/png": "[encoded data removed]",
      "text/plain": [
       "<Figure size 640x480 with 2 Axes>"
      ]
     },
     "metadata": {},
     "output_type": "display_data"
    }
   ],
   "source": [
    "sns.heatmap(df_train_dummies.corr())"
   ]
  },
  {
   "cell_type": "code",
   "execution_count": 45,
   "id": "b6617b9f-5ec9-420c-b341-4148f8527b06",
   "metadata": {},
   "outputs": [],
   "source": [
    "df_train = df_train_dummies"
   ]
  },
  {
   "cell_type": "markdown",
   "id": "8873fb20-3b75-4650-8f50-aa3c66982a76",
   "metadata": {},
   "source": [
    "##### Conclusions\n",
    "TODO"
   ]
  },
  {
   "cell_type": "markdown",
   "id": "1495f4ad-97bc-40de-b374-bfcaf7b9b6b8",
   "metadata": {},
   "source": [
    "#### Outliers and visualisations"
   ]
  },
  {
   "cell_type": "code",
   "execution_count": 46,
   "id": "d8e82800-09a7-4192-8408-35b023c11007",
   "metadata": {},
   "outputs": [],
   "source": [
    "numeric_cols = ['Age', 'RoomService', 'FoodCourt', 'ShoppingMall', 'Spa', 'VRDeck']"
   ]
  },
  {
   "cell_type": "code",
   "execution_count": 47,
   "id": "643ef472-5ae3-492c-8fd6-63e52232fc53",
   "metadata": {},
   "outputs": [
    {
     "data": {
      "image/png": "[encoded data removed]",
      "text/plain": [
       "<Figure size 1000x500 with 6 Axes>"
      ]
     },
     "metadata": {},
     "output_type": "display_data"
    }
   ],
   "source": [
    "fig, axes = plt.subplots(3,2)\n",
    "fig.set_size_inches(10,5)\n",
    "sns.boxplot(data=df_train, x=numeric_cols[0], ax=axes[0][0])\n",
    "sns.boxplot(data=df_train, x=numeric_cols[1], ax=axes[0][1])\n",
    "sns.boxplot(data=df_train, x=numeric_cols[2], ax=axes[1][0])\n",
    "sns.boxplot(data=df_train, x=numeric_cols[3], ax=axes[1][1])\n",
    "sns.boxplot(data=df_train, x=numeric_cols[4], ax=axes[2][0])\n",
    "sns.boxplot(data=df_train, x=numeric_cols[5], ax=axes[2][1])\n",
    "plt.tight_layout()"
   ]
  },
  {
   "cell_type": "code",
   "execution_count": 48,
   "id": "75103747-5976-4599-ae37-8f6f861611e2",
   "metadata": {},
   "outputs": [
    {
     "data": {
      "image/png": "[encoded data removed]",
      "text/plain": [
       "<Figure size 1000x800 with 6 Axes>"
      ]
     },
     "metadata": {},
     "output_type": "display_data"
    }
   ],
   "source": [
    "fig, axes = plt.subplots(3,2)\n",
    "fig.set_size_inches(10,8)\n",
    "sns.scatterplot(data=df_train, x=numeric_cols[0], y='Transported', ax=axes[0][0])\n",
    "sns.scatterplot(data=df_train, x=numeric_cols[1], y='Transported', ax=axes[0][1])\n",
    "sns.scatterplot(data=df_train, x=numeric_cols[2], y='Transported', ax=axes[1][0])\n",
    "sns.scatterplot(data=df_train, x=numeric_cols[3], y='Transported', ax=axes[1][1])\n",
    "sns.scatterplot(data=df_train, x=numeric_cols[4], y='Transported', ax=axes[2][0])\n",
    "sns.scatterplot(data=df_train, x=numeric_cols[5], y='Transported', ax=axes[2][1])\n",
    "plt.tight_layout()"
   ]
  },
  {
   "cell_type": "markdown",
   "id": "11486d8e-1ac3-4a70-b2bd-9077610883cb",
   "metadata": {},
   "source": [
    "##### Dealing with outliers"
   ]
  },
  {
   "cell_type": "code",
   "execution_count": 49,
   "id": "d7c962d0-3cf9-4a70-ad13-87266f05dcdf",
   "metadata": {},
   "outputs": [],
   "source": [
    "def remove_outliers(df, column):\n",
    "    Q1 = df[column].quantile(0.25)\n",
    "    Q3 = df[column].quantile(0.75)\n",
    "    IQR = Q3 - Q1\n",
    "    lower_bound = Q1 - 1.5 * IQR\n",
    "    upper_bound = Q3 + 1.5 * IQR\n",
    "    df[column] = np.where(df[column] > upper_bound, df[column].median(), df[column])  # Zamiana wartości na medianę\n",
    "    return df\n",
    "\n",
    "for col in numeric_cols:\n",
    "    df_train = remove_outliers(df_train, col)"
   ]
  },
  {
   "cell_type": "code",
   "execution_count": 50,
   "id": "13332839-5401-4124-80a9-8cd7f5a244ab",
   "metadata": {},
   "outputs": [
    {
     "data": {
      "image/png": "[encoded data removed]",
      "text/plain": [
       "<Figure size 1000x800 with 6 Axes>"
      ]
     },
     "metadata": {},
     "output_type": "display_data"
    }
   ],
   "source": [
    "fig, axes = plt.subplots(3,2)\n",
    "fig.set_size_inches(10,8)\n",
    "sns.scatterplot(data=df_train, x=numeric_cols[0], y='Transported', ax=axes[0][0])\n",
    "sns.scatterplot(data=df_train, x=numeric_cols[1], y='Transported', ax=axes[0][1])\n",
    "sns.scatterplot(data=df_train, x=numeric_cols[2], y='Transported', ax=axes[1][0])\n",
    "sns.scatterplot(data=df_train, x=numeric_cols[3], y='Transported', ax=axes[1][1])\n",
    "sns.scatterplot(data=df_train, x=numeric_cols[4], y='Transported', ax=axes[2][0])\n",
    "sns.scatterplot(data=df_train, x=numeric_cols[5], y='Transported', ax=axes[2][1])\n",
    "plt.tight_layout()"
   ]
  },
  {
   "cell_type": "markdown",
   "id": "1528e2dc-579a-4e42-ac15-2aa652b05197",
   "metadata": {
    "jp-MarkdownHeadingCollapsed": true
   },
   "source": [
    "##### Conclusions\n",
    "TODO"
   ]
  },
  {
   "cell_type": "markdown",
   "id": "cf301326-72c9-4e42-b053-542fcbf62816",
   "metadata": {},
   "source": [
    "## Modeling"
   ]
  },
  {
   "cell_type": "markdown",
   "id": "b09d4a23-67b0-4edb-b184-c8e3e6b68e14",
   "metadata": {},
   "source": [
    "### Data preparation"
   ]
  },
  {
   "cell_type": "code",
   "execution_count": 51,
   "id": "18bbcf9b-e4ae-4f71-be23-0586593b5187",
   "metadata": {},
   "outputs": [],
   "source": [
    "from sklearn.model_selection import GridSearchCV\n",
    "from sklearn.metrics import accuracy_score, classification_report, confusion_matrix, ConfusionMatrixDisplay"
   ]
  },
  {
   "cell_type": "code",
   "execution_count": 52,
   "id": "439b94dd-3b72-4144-a9dc-c36d7439d0a3",
   "metadata": {},
   "outputs": [],
   "source": [
    "evaluation_dict = {}"
   ]
  },
  {
   "cell_type": "markdown",
   "id": "6d464ce9-8b68-4b61-8e3c-deec241915e2",
   "metadata": {},
   "source": [
    "### Train | Test Split"
   ]
  },
  {
   "cell_type": "code",
   "execution_count": 53,
   "id": "a309adb8-3181-4446-96e0-5f2e7108b6cd",
   "metadata": {},
   "outputs": [],
   "source": [
    "from sklearn.model_selection import train_test_split\n",
    "from sklearn.preprocessing import StandardScaler"
   ]
  },
  {
   "cell_type": "code",
   "execution_count": 54,
   "id": "f7a2639a-a673-4595-be99-285c40bbc00f",
   "metadata": {},
   "outputs": [],
   "source": [
    "X = df_train.drop('Transported', axis=1)\n",
    "y = df_train['Transported']"
   ]
  },
  {
   "cell_type": "code",
   "execution_count": 55,
   "id": "ea6a279c-989a-4c2b-aeb0-a5f01a0dfe26",
   "metadata": {},
   "outputs": [],
   "source": [
    "X_train, X_test, y_train, y_test = train_test_split(X, y, test_size=0.2, random_state=101)"
   ]
  },
  {
   "cell_type": "code",
   "execution_count": 56,
   "id": "832c9634-3f63-4ffc-8e5b-5a9bbf1974c4",
   "metadata": {},
   "outputs": [],
   "source": [
    "scaler = StandardScaler()\n",
    "scaled_X_train = scaler.fit_transform(X_train)\n",
    "scaled_X_test = scaler.transform(X_test)"
   ]
  },
  {
   "cell_type": "markdown",
   "id": "efc31949-5369-42df-837b-ea71cff9ca0a",
   "metadata": {},
   "source": [
    "## KNN "
   ]
  },
  {
   "cell_type": "code",
   "execution_count": 57,
   "id": "a62be3fe-8a18-48f1-aa49-6c211e730932",
   "metadata": {},
   "outputs": [],
   "source": [
    "from sklearn.neighbors import KNeighborsClassifier"
   ]
  },
  {
   "cell_type": "code",
   "execution_count": 58,
   "id": "737f2482-7644-4dbc-843a-dde6640c19d0",
   "metadata": {},
   "outputs": [],
   "source": [
    "knn_model = KNeighborsClassifier(n_jobs=-1)"
   ]
  },
  {
   "cell_type": "code",
   "execution_count": 59,
   "id": "24e57079-a1c4-41ee-85ad-f6f3888192d7",
   "metadata": {},
   "outputs": [],
   "source": [
    "param_grid = {\n",
    "    'n_neighbors': [5, 10, 10, 20, 50],\n",
    "    'weights': ['uniform', 'distance'],\n",
    "    'algorithm': ['auto', 'ball_tree', 'kd_tree', 'brute'],\n",
    "    'metric': ['euclidean', 'manhattan', 'minkowski', 'chebyshev'],\n",
    "    'p': [1,2]\n",
    "}"
   ]
  },
  {
   "cell_type": "code",
   "execution_count": 60,
   "id": "b87f4afe-0638-4016-8cd3-d4e56552e38b",
   "metadata": {},
   "outputs": [],
   "source": [
    "grid_knn_model = GridSearchCV(knn_model, param_grid, cv=10)"
   ]
  },
  {
   "cell_type": "code",
   "execution_count": 61,
   "id": "8c83db3f-89ce-41f1-a841-e0a90eae35c1",
   "metadata": {},
   "outputs": [
    {
     "data": {
      "text/html": [
       "<style>#sk-container-id-1 {\n",
       "  /* Definition of color scheme common for light and dark mode */\n",
       "  --sklearn-color-text: #000;\n",
       "  --sklearn-color-text-muted: #666;\n",
       "  --sklearn-color-line: gray;\n",
       "  /* Definition of color scheme for unfitted estimators */\n",
       "  --sklearn-color-unfitted-level-0: #fff5e6;\n",
       "  --sklearn-color-unfitted-level-1: #f6e4d2;\n",
       "  --sklearn-color-unfitted-level-2: #ffe0b3;\n",
       "  --sklearn-color-unfitted-level-3: chocolate;\n",
       "  /* Definition of color scheme for fitted estimators */\n",
       "  --sklearn-color-fitted-level-0: #f0f8ff;\n",
       "  --sklearn-color-fitted-level-1: #d4ebff;\n",
       "  --sklearn-color-fitted-level-2: #b3dbfd;\n",
       "  --sklearn-color-fitted-level-3: cornflowerblue;\n",
       "\n",
       "  /* Specific color for light theme */\n",
       "  --sklearn-color-text-on-default-background: var(--sg-text-color, var(--theme-code-foreground, var(--jp-content-font-color1, black)));\n",
       "  --sklearn-color-background: var(--sg-background-color, var(--theme-background, var(--jp-layout-color0, white)));\n",
       "  --sklearn-color-border-box: var(--sg-text-color, var(--theme-code-foreground, var(--jp-content-font-color1, black)));\n",
       "  --sklearn-color-icon: #696969;\n",
       "\n",
       "  @media (prefers-color-scheme: dark) {\n",
       "    /* Redefinition of color scheme for dark theme */\n",
       "    --sklearn-color-text-on-default-background: var(--sg-text-color, var(--theme-code-foreground, var(--jp-content-font-color1, white)));\n",
       "    --sklearn-color-background: var(--sg-background-color, var(--theme-background, var(--jp-layout-color0, #111)));\n",
       "    --sklearn-color-border-box: var(--sg-text-color, var(--theme-code-foreground, var(--jp-content-font-color1, white)));\n",
       "    --sklearn-color-icon: #878787;\n",
       "  }\n",
       "}\n",
       "\n",
       "#sk-container-id-1 {\n",
       "  color: var(--sklearn-color-text);\n",
       "}\n",
       "\n",
       "#sk-container-id-1 pre {\n",
       "  padding: 0;\n",
       "}\n",
       "\n",
       "#sk-container-id-1 input.sk-hidden--visually {\n",
       "  border: 0;\n",
       "  clip: rect(1px 1px 1px 1px);\n",
       "  clip: rect(1px, 1px, 1px, 1px);\n",
       "  height: 1px;\n",
       "  margin: -1px;\n",
       "  overflow: hidden;\n",
       "  padding: 0;\n",
       "  position: absolute;\n",
       "  width: 1px;\n",
       "}\n",
       "\n",
       "#sk-container-id-1 div.sk-dashed-wrapped {\n",
       "  border: 1px dashed var(--sklearn-color-line);\n",
       "  margin: 0 0.4em 0.5em 0.4em;\n",
       "  box-sizing: border-box;\n",
       "  padding-bottom: 0.4em;\n",
       "  background-color: var(--sklearn-color-background);\n",
       "}\n",
       "\n",
       "#sk-container-id-1 div.sk-container {\n",
       "  /* jupyter's `normalize.less` sets `[hidden] { display: none; }`\n",
       "     but bootstrap.min.css set `[hidden] { display: none !important; }`\n",
       "     so we also need the `!important` here to be able to override the\n",
       "     default hidden behavior on the sphinx rendered scikit-learn.org.\n",
       "     See: https://github.com/scikit-learn/scikit-learn/issues/21755 */\n",
       "  display: inline-block !important;\n",
       "  position: relative;\n",
       "}\n",
       "\n",
       "#sk-container-id-1 div.sk-text-repr-fallback {\n",
       "  display: none;\n",
       "}\n",
       "\n",
       "div.sk-parallel-item,\n",
       "div.sk-serial,\n",
       "div.sk-item {\n",
       "  /* draw centered vertical line to link estimators */\n",
       "  background-image: linear-gradient(var(--sklearn-color-text-on-default-background), var(--sklearn-color-text-on-default-background));\n",
       "  background-size: 2px 100%;\n",
       "  background-repeat: no-repeat;\n",
       "  background-position: center center;\n",
       "}\n",
       "\n",
       "/* Parallel-specific style estimator block */\n",
       "\n",
       "#sk-container-id-1 div.sk-parallel-item::after {\n",
       "  content: \"\";\n",
       "  width: 100%;\n",
       "  border-bottom: 2px solid var(--sklearn-color-text-on-default-background);\n",
       "  flex-grow: 1;\n",
       "}\n",
       "\n",
       "#sk-container-id-1 div.sk-parallel {\n",
       "  display: flex;\n",
       "  align-items: stretch;\n",
       "  justify-content: center;\n",
       "  background-color: var(--sklearn-color-background);\n",
       "  position: relative;\n",
       "}\n",
       "\n",
       "#sk-container-id-1 div.sk-parallel-item {\n",
       "  display: flex;\n",
       "  flex-direction: column;\n",
       "}\n",
       "\n",
       "#sk-container-id-1 div.sk-parallel-item:first-child::after {\n",
       "  align-self: flex-end;\n",
       "  width: 50%;\n",
       "}\n",
       "\n",
       "#sk-container-id-1 div.sk-parallel-item:last-child::after {\n",
       "  align-self: flex-start;\n",
       "  width: 50%;\n",
       "}\n",
       "\n",
       "#sk-container-id-1 div.sk-parallel-item:only-child::after {\n",
       "  width: 0;\n",
       "}\n",
       "\n",
       "/* Serial-specific style estimator block */\n",
       "\n",
       "#sk-container-id-1 div.sk-serial {\n",
       "  display: flex;\n",
       "  flex-direction: column;\n",
       "  align-items: center;\n",
       "  background-color: var(--sklearn-color-background);\n",
       "  padding-right: 1em;\n",
       "  padding-left: 1em;\n",
       "}\n",
       "\n",
       "\n",
       "/* Toggleable style: style used for estimator/Pipeline/ColumnTransformer box that is\n",
       "clickable and can be expanded/collapsed.\n",
       "- Pipeline and ColumnTransformer use this feature and define the default style\n",
       "- Estimators will overwrite some part of the style using the `sk-estimator` class\n",
       "*/\n",
       "\n",
       "/* Pipeline and ColumnTransformer style (default) */\n",
       "\n",
       "#sk-container-id-1 div.sk-toggleable {\n",
       "  /* Default theme specific background. It is overwritten whether we have a\n",
       "  specific estimator or a Pipeline/ColumnTransformer */\n",
       "  background-color: var(--sklearn-color-background);\n",
       "}\n",
       "\n",
       "/* Toggleable label */\n",
       "#sk-container-id-1 label.sk-toggleable__label {\n",
       "  cursor: pointer;\n",
       "  display: flex;\n",
       "  width: 100%;\n",
       "  margin-bottom: 0;\n",
       "  padding: 0.5em;\n",
       "  box-sizing: border-box;\n",
       "  text-align: center;\n",
       "  align-items: start;\n",
       "  justify-content: space-between;\n",
       "  gap: 0.5em;\n",
       "}\n",
       "\n",
       "#sk-container-id-1 label.sk-toggleable__label .caption {\n",
       "  font-size: 0.6rem;\n",
       "  font-weight: lighter;\n",
       "  color: var(--sklearn-color-text-muted);\n",
       "}\n",
       "\n",
       "#sk-container-id-1 label.sk-toggleable__label-arrow:before {\n",
       "  /* Arrow on the left of the label */\n",
       "  content: \"▸\";\n",
       "  float: left;\n",
       "  margin-right: 0.25em;\n",
       "  color: var(--sklearn-color-icon);\n",
       "}\n",
       "\n",
       "#sk-container-id-1 label.sk-toggleable__label-arrow:hover:before {\n",
       "  color: var(--sklearn-color-text);\n",
       "}\n",
       "\n",
       "/* Toggleable content - dropdown */\n",
       "\n",
       "#sk-container-id-1 div.sk-toggleable__content {\n",
       "  max-height: 0;\n",
       "  max-width: 0;\n",
       "  overflow: hidden;\n",
       "  text-align: left;\n",
       "  /* unfitted */\n",
       "  background-color: var(--sklearn-color-unfitted-level-0);\n",
       "}\n",
       "\n",
       "#sk-container-id-1 div.sk-toggleable__content.fitted {\n",
       "  /* fitted */\n",
       "  background-color: var(--sklearn-color-fitted-level-0);\n",
       "}\n",
       "\n",
       "#sk-container-id-1 div.sk-toggleable__content pre {\n",
       "  margin: 0.2em;\n",
       "  border-radius: 0.25em;\n",
       "  color: var(--sklearn-color-text);\n",
       "  /* unfitted */\n",
       "  background-color: var(--sklearn-color-unfitted-level-0);\n",
       "}\n",
       "\n",
       "#sk-container-id-1 div.sk-toggleable__content.fitted pre {\n",
       "  /* unfitted */\n",
       "  background-color: var(--sklearn-color-fitted-level-0);\n",
       "}\n",
       "\n",
       "#sk-container-id-1 input.sk-toggleable__control:checked~div.sk-toggleable__content {\n",
       "  /* Expand drop-down */\n",
       "  max-height: 200px;\n",
       "  max-width: 100%;\n",
       "  overflow: auto;\n",
       "}\n",
       "\n",
       "#sk-container-id-1 input.sk-toggleable__control:checked~label.sk-toggleable__label-arrow:before {\n",
       "  content: \"▾\";\n",
       "}\n",
       "\n",
       "/* Pipeline/ColumnTransformer-specific style */\n",
       "\n",
       "#sk-container-id-1 div.sk-label input.sk-toggleable__control:checked~label.sk-toggleable__label {\n",
       "  color: var(--sklearn-color-text);\n",
       "  background-color: var(--sklearn-color-unfitted-level-2);\n",
       "}\n",
       "\n",
       "#sk-container-id-1 div.sk-label.fitted input.sk-toggleable__control:checked~label.sk-toggleable__label {\n",
       "  background-color: var(--sklearn-color-fitted-level-2);\n",
       "}\n",
       "\n",
       "/* Estimator-specific style */\n",
       "\n",
       "/* Colorize estimator box */\n",
       "#sk-container-id-1 div.sk-estimator input.sk-toggleable__control:checked~label.sk-toggleable__label {\n",
       "  /* unfitted */\n",
       "  background-color: var(--sklearn-color-unfitted-level-2);\n",
       "}\n",
       "\n",
       "#sk-container-id-1 div.sk-estimator.fitted input.sk-toggleable__control:checked~label.sk-toggleable__label {\n",
       "  /* fitted */\n",
       "  background-color: var(--sklearn-color-fitted-level-2);\n",
       "}\n",
       "\n",
       "#sk-container-id-1 div.sk-label label.sk-toggleable__label,\n",
       "#sk-container-id-1 div.sk-label label {\n",
       "  /* The background is the default theme color */\n",
       "  color: var(--sklearn-color-text-on-default-background);\n",
       "}\n",
       "\n",
       "/* On hover, darken the color of the background */\n",
       "#sk-container-id-1 div.sk-label:hover label.sk-toggleable__label {\n",
       "  color: var(--sklearn-color-text);\n",
       "  background-color: var(--sklearn-color-unfitted-level-2);\n",
       "}\n",
       "\n",
       "/* Label box, darken color on hover, fitted */\n",
       "#sk-container-id-1 div.sk-label.fitted:hover label.sk-toggleable__label.fitted {\n",
       "  color: var(--sklearn-color-text);\n",
       "  background-color: var(--sklearn-color-fitted-level-2);\n",
       "}\n",
       "\n",
       "/* Estimator label */\n",
       "\n",
       "#sk-container-id-1 div.sk-label label {\n",
       "  font-family: monospace;\n",
       "  font-weight: bold;\n",
       "  display: inline-block;\n",
       "  line-height: 1.2em;\n",
       "}\n",
       "\n",
       "#sk-container-id-1 div.sk-label-container {\n",
       "  text-align: center;\n",
       "}\n",
       "\n",
       "/* Estimator-specific */\n",
       "#sk-container-id-1 div.sk-estimator {\n",
       "  font-family: monospace;\n",
       "  border: 1px dotted var(--sklearn-color-border-box);\n",
       "  border-radius: 0.25em;\n",
       "  box-sizing: border-box;\n",
       "  margin-bottom: 0.5em;\n",
       "  /* unfitted */\n",
       "  background-color: var(--sklearn-color-unfitted-level-0);\n",
       "}\n",
       "\n",
       "#sk-container-id-1 div.sk-estimator.fitted {\n",
       "  /* fitted */\n",
       "  background-color: var(--sklearn-color-fitted-level-0);\n",
       "}\n",
       "\n",
       "/* on hover */\n",
       "#sk-container-id-1 div.sk-estimator:hover {\n",
       "  /* unfitted */\n",
       "  background-color: var(--sklearn-color-unfitted-level-2);\n",
       "}\n",
       "\n",
       "#sk-container-id-1 div.sk-estimator.fitted:hover {\n",
       "  /* fitted */\n",
       "  background-color: var(--sklearn-color-fitted-level-2);\n",
       "}\n",
       "\n",
       "/* Specification for estimator info (e.g. \"i\" and \"?\") */\n",
       "\n",
       "/* Common style for \"i\" and \"?\" */\n",
       "\n",
       ".sk-estimator-doc-link,\n",
       "a:link.sk-estimator-doc-link,\n",
       "a:visited.sk-estimator-doc-link {\n",
       "  float: right;\n",
       "  font-size: smaller;\n",
       "  line-height: 1em;\n",
       "  font-family: monospace;\n",
       "  background-color: var(--sklearn-color-background);\n",
       "  border-radius: 1em;\n",
       "  height: 1em;\n",
       "  width: 1em;\n",
       "  text-decoration: none !important;\n",
       "  margin-left: 0.5em;\n",
       "  text-align: center;\n",
       "  /* unfitted */\n",
       "  border: var(--sklearn-color-unfitted-level-1) 1pt solid;\n",
       "  color: var(--sklearn-color-unfitted-level-1);\n",
       "}\n",
       "\n",
       ".sk-estimator-doc-link.fitted,\n",
       "a:link.sk-estimator-doc-link.fitted,\n",
       "a:visited.sk-estimator-doc-link.fitted {\n",
       "  /* fitted */\n",
       "  border: var(--sklearn-color-fitted-level-1) 1pt solid;\n",
       "  color: var(--sklearn-color-fitted-level-1);\n",
       "}\n",
       "\n",
       "/* On hover */\n",
       "div.sk-estimator:hover .sk-estimator-doc-link:hover,\n",
       ".sk-estimator-doc-link:hover,\n",
       "div.sk-label-container:hover .sk-estimator-doc-link:hover,\n",
       ".sk-estimator-doc-link:hover {\n",
       "  /* unfitted */\n",
       "  background-color: var(--sklearn-color-unfitted-level-3);\n",
       "  color: var(--sklearn-color-background);\n",
       "  text-decoration: none;\n",
       "}\n",
       "\n",
       "div.sk-estimator.fitted:hover .sk-estimator-doc-link.fitted:hover,\n",
       ".sk-estimator-doc-link.fitted:hover,\n",
       "div.sk-label-container:hover .sk-estimator-doc-link.fitted:hover,\n",
       ".sk-estimator-doc-link.fitted:hover {\n",
       "  /* fitted */\n",
       "  background-color: var(--sklearn-color-fitted-level-3);\n",
       "  color: var(--sklearn-color-background);\n",
       "  text-decoration: none;\n",
       "}\n",
       "\n",
       "/* Span, style for the box shown on hovering the info icon */\n",
       ".sk-estimator-doc-link span {\n",
       "  display: none;\n",
       "  z-index: 9999;\n",
       "  position: relative;\n",
       "  font-weight: normal;\n",
       "  right: .2ex;\n",
       "  padding: .5ex;\n",
       "  margin: .5ex;\n",
       "  width: min-content;\n",
       "  min-width: 20ex;\n",
       "  max-width: 50ex;\n",
       "  color: var(--sklearn-color-text);\n",
       "  box-shadow: 2pt 2pt 4pt #999;\n",
       "  /* unfitted */\n",
       "  background: var(--sklearn-color-unfitted-level-0);\n",
       "  border: .5pt solid var(--sklearn-color-unfitted-level-3);\n",
       "}\n",
       "\n",
       ".sk-estimator-doc-link.fitted span {\n",
       "  /* fitted */\n",
       "  background: var(--sklearn-color-fitted-level-0);\n",
       "  border: var(--sklearn-color-fitted-level-3);\n",
       "}\n",
       "\n",
       ".sk-estimator-doc-link:hover span {\n",
       "  display: block;\n",
       "}\n",
       "\n",
       "/* \"?\"-specific style due to the `<a>` HTML tag */\n",
       "\n",
       "#sk-container-id-1 a.estimator_doc_link {\n",
       "  float: right;\n",
       "  font-size: 1rem;\n",
       "  line-height: 1em;\n",
       "  font-family: monospace;\n",
       "  background-color: var(--sklearn-color-background);\n",
       "  border-radius: 1rem;\n",
       "  height: 1rem;\n",
       "  width: 1rem;\n",
       "  text-decoration: none;\n",
       "  /* unfitted */\n",
       "  color: var(--sklearn-color-unfitted-level-1);\n",
       "  border: var(--sklearn-color-unfitted-level-1) 1pt solid;\n",
       "}\n",
       "\n",
       "#sk-container-id-1 a.estimator_doc_link.fitted {\n",
       "  /* fitted */\n",
       "  border: var(--sklearn-color-fitted-level-1) 1pt solid;\n",
       "  color: var(--sklearn-color-fitted-level-1);\n",
       "}\n",
       "\n",
       "/* On hover */\n",
       "#sk-container-id-1 a.estimator_doc_link:hover {\n",
       "  /* unfitted */\n",
       "  background-color: var(--sklearn-color-unfitted-level-3);\n",
       "  color: var(--sklearn-color-background);\n",
       "  text-decoration: none;\n",
       "}\n",
       "\n",
       "#sk-container-id-1 a.estimator_doc_link.fitted:hover {\n",
       "  /* fitted */\n",
       "  background-color: var(--sklearn-color-fitted-level-3);\n",
       "}\n",
       "</style><div id=\"sk-container-id-1\" class=\"sk-top-container\"><div class=\"sk-text-repr-fallback\"><pre>GridSearchCV(cv=10, estimator=KNeighborsClassifier(n_jobs=-1),\n",
       "             param_grid={&#x27;algorithm&#x27;: [&#x27;auto&#x27;, &#x27;ball_tree&#x27;, &#x27;kd_tree&#x27;, &#x27;brute&#x27;],\n",
       "                         &#x27;metric&#x27;: [&#x27;euclidean&#x27;, &#x27;manhattan&#x27;, &#x27;minkowski&#x27;,\n",
       "                                    &#x27;chebyshev&#x27;],\n",
       "                         &#x27;n_neighbors&#x27;: [5, 10, 10, 20, 50], &#x27;p&#x27;: [1, 2],\n",
       "                         &#x27;weights&#x27;: [&#x27;uniform&#x27;, &#x27;distance&#x27;]})</pre><b>In a Jupyter environment, please rerun this cell to show the HTML representation or trust the notebook. <br />On GitHub, the HTML representation is unable to render, please try loading this page with nbviewer.org.</b></div><div class=\"sk-container\" hidden><div class=\"sk-item sk-dashed-wrapped\"><div class=\"sk-label-container\"><div class=\"sk-label fitted sk-toggleable\"><input class=\"sk-toggleable__control sk-hidden--visually\" id=\"sk-estimator-id-1\" type=\"checkbox\" ><label for=\"sk-estimator-id-1\" class=\"sk-toggleable__label fitted sk-toggleable__label-arrow\"><div><div>GridSearchCV</div></div><div><a class=\"sk-estimator-doc-link fitted\" rel=\"noreferrer\" target=\"_blank\" href=\"https://scikit-learn.org/1.6/modules/generated/sklearn.model_selection.GridSearchCV.html\">?<span>Documentation for GridSearchCV</span></a><span class=\"sk-estimator-doc-link fitted\">i<span>Fitted</span></span></div></label><div class=\"sk-toggleable__content fitted\"><pre>GridSearchCV(cv=10, estimator=KNeighborsClassifier(n_jobs=-1),\n",
       "             param_grid={&#x27;algorithm&#x27;: [&#x27;auto&#x27;, &#x27;ball_tree&#x27;, &#x27;kd_tree&#x27;, &#x27;brute&#x27;],\n",
       "                         &#x27;metric&#x27;: [&#x27;euclidean&#x27;, &#x27;manhattan&#x27;, &#x27;minkowski&#x27;,\n",
       "                                    &#x27;chebyshev&#x27;],\n",
       "                         &#x27;n_neighbors&#x27;: [5, 10, 10, 20, 50], &#x27;p&#x27;: [1, 2],\n",
       "                         &#x27;weights&#x27;: [&#x27;uniform&#x27;, &#x27;distance&#x27;]})</pre></div> </div></div><div class=\"sk-parallel\"><div class=\"sk-parallel-item\"><div class=\"sk-item\"><div class=\"sk-label-container\"><div class=\"sk-label fitted sk-toggleable\"><input class=\"sk-toggleable__control sk-hidden--visually\" id=\"sk-estimator-id-2\" type=\"checkbox\" ><label for=\"sk-estimator-id-2\" class=\"sk-toggleable__label fitted sk-toggleable__label-arrow\"><div><div>best_estimator_: KNeighborsClassifier</div></div></label><div class=\"sk-toggleable__content fitted\"><pre>KNeighborsClassifier(metric=&#x27;manhattan&#x27;, n_jobs=-1, n_neighbors=20, p=1)</pre></div> </div></div><div class=\"sk-serial\"><div class=\"sk-item\"><div class=\"sk-estimator fitted sk-toggleable\"><input class=\"sk-toggleable__control sk-hidden--visually\" id=\"sk-estimator-id-3\" type=\"checkbox\" ><label for=\"sk-estimator-id-3\" class=\"sk-toggleable__label fitted sk-toggleable__label-arrow\"><div><div>KNeighborsClassifier</div></div><div><a class=\"sk-estimator-doc-link fitted\" rel=\"noreferrer\" target=\"_blank\" href=\"https://scikit-learn.org/1.6/modules/generated/sklearn.neighbors.KNeighborsClassifier.html\">?<span>Documentation for KNeighborsClassifier</span></a></div></label><div class=\"sk-toggleable__content fitted\"><pre>KNeighborsClassifier(metric=&#x27;manhattan&#x27;, n_jobs=-1, n_neighbors=20, p=1)</pre></div> </div></div></div></div></div></div></div></div></div>"
      ],
      "text/plain": [
       "GridSearchCV(cv=10, estimator=KNeighborsClassifier(n_jobs=-1),\n",
       "             param_grid={'algorithm': ['auto', 'ball_tree', 'kd_tree', 'brute'],\n",
       "                         'metric': ['euclidean', 'manhattan', 'minkowski',\n",
       "                                    'chebyshev'],\n",
       "                         'n_neighbors': [5, 10, 10, 20, 50], 'p': [1, 2],\n",
       "                         'weights': ['uniform', 'distance']})"
      ]
     },
     "execution_count": 61,
     "metadata": {},
     "output_type": "execute_result"
    }
   ],
   "source": [
    "grid_knn_model.fit(scaled_X_train, y_train)"
   ]
  },
  {
   "cell_type": "code",
   "execution_count": 62,
   "id": "0d6e0b98-416a-4c00-8e6a-b0a109975676",
   "metadata": {},
   "outputs": [
    {
     "data": {
      "text/plain": [
       "{'algorithm': 'auto',\n",
       " 'metric': 'manhattan',\n",
       " 'n_neighbors': 20,\n",
       " 'p': 1,\n",
       " 'weights': 'uniform'}"
      ]
     },
     "execution_count": 62,
     "metadata": {},
     "output_type": "execute_result"
    }
   ],
   "source": [
    "grid_knn_model.best_params_"
   ]
  },
  {
   "cell_type": "markdown",
   "id": "ac532d15-89fd-4e76-9818-a546fcbd9c90",
   "metadata": {},
   "source": [
    "### Evaluation"
   ]
  },
  {
   "cell_type": "code",
   "execution_count": 63,
   "id": "645dbcc7-1483-4140-9fdb-8751eabb037f",
   "metadata": {},
   "outputs": [],
   "source": [
    "y_pred = grid_knn_model.predict(scaled_X_test)"
   ]
  },
  {
   "cell_type": "code",
   "execution_count": 64,
   "id": "b7cde4b8-01e5-4f1e-abd5-e6026ddde534",
   "metadata": {},
   "outputs": [
    {
     "data": {
      "text/plain": [
       "0.7435307648073606"
      ]
     },
     "execution_count": 64,
     "metadata": {},
     "output_type": "execute_result"
    }
   ],
   "source": [
    "accuracy = accuracy_score(y_test, y_pred)\n",
    "accuracy"
   ]
  },
  {
   "cell_type": "code",
   "execution_count": 65,
   "id": "9683742d-1c70-43dd-ace0-e9987e104131",
   "metadata": {},
   "outputs": [
    {
     "name": "stdout",
     "output_type": "stream",
     "text": [
      "Classification report:\n",
      "               precision    recall  f1-score   support\n",
      "\n",
      "         0.0       0.71      0.84      0.77       877\n",
      "         1.0       0.80      0.65      0.71       862\n",
      "\n",
      "    accuracy                           0.74      1739\n",
      "   macro avg       0.75      0.74      0.74      1739\n",
      "weighted avg       0.75      0.74      0.74      1739\n",
      "\n"
     ]
    }
   ],
   "source": [
    "print('Classification report:\\n', classification_report(y_test, y_pred))"
   ]
  },
  {
   "cell_type": "code",
   "execution_count": 66,
   "id": "7a7cf140-d320-47de-82ee-0120f9273031",
   "metadata": {},
   "outputs": [
    {
     "data": {
      "image/png": "[encoded data removed]",
      "text/plain": [
       "<Figure size 300x300 with 2 Axes>"
      ]
     },
     "metadata": {},
     "output_type": "display_data"
    }
   ],
   "source": [
    "conf_matrix = confusion_matrix(y_test, y_pred)\n",
    "disp = ConfusionMatrixDisplay(conf_matrix, display_labels=grid_knn_model.classes_)\n",
    "    \n",
    "fig, ax = plt.subplots(figsize=(3,3))\n",
    "disp.plot(ax=ax)\n",
    "plt.show()    "
   ]
  },
  {
   "cell_type": "markdown",
   "id": "8ccb2eb3-4f68-4281-bf48-ef8637ab2b97",
   "metadata": {},
   "source": [
    "#### Overfitting check"
   ]
  },
  {
   "cell_type": "code",
   "execution_count": 67,
   "id": "66531479-2d74-470a-932f-147699630679",
   "metadata": {},
   "outputs": [
    {
     "name": "stdout",
     "output_type": "stream",
     "text": [
      "Train Accuracy: 0.7565\n",
      "Test Accuracy: 0.7435\n"
     ]
    }
   ],
   "source": [
    "train_acc = accuracy_score(y_train, grid_knn_model.predict(scaled_X_train))\n",
    "test_acc = accuracy_score(y_test, y_pred)\n",
    "\n",
    "print(f'Train Accuracy: {train_acc:.4f}')\n",
    "print(f'Test Accuracy: {test_acc:.4f}')"
   ]
  },
  {
   "cell_type": "markdown",
   "id": "524ab0c2-a4a7-4b7f-847d-f15f38dcb0b1",
   "metadata": {},
   "source": [
    "## Model2"
   ]
  },
  {
   "cell_type": "markdown",
   "id": "1b1a388e-aebc-4b6c-969b-17f097c43e64",
   "metadata": {},
   "source": [
    "### Model"
   ]
  },
  {
   "cell_type": "markdown",
   "id": "1014de11-ec32-4507-88e1-66b1866265ff",
   "metadata": {},
   "source": [
    "### Evaluation"
   ]
  },
  {
   "cell_type": "markdown",
   "id": "6b606652-787a-433b-b765-91a667ba4d10",
   "metadata": {},
   "source": [
    "#### Overfitting check"
   ]
  },
  {
   "cell_type": "markdown",
   "id": "e6b5f308-9b0c-4d05-a749-6fe53299c02e",
   "metadata": {},
   "source": [
    "## Model3"
   ]
  },
  {
   "cell_type": "markdown",
   "id": "71ce12f2-c3e3-43ef-87d8-824a23dfff57",
   "metadata": {},
   "source": [
    "### Model"
   ]
  },
  {
   "cell_type": "markdown",
   "id": "b6b87a07-d716-4d1e-979b-732740ef8516",
   "metadata": {},
   "source": [
    "### Evaluation"
   ]
  },
  {
   "cell_type": "markdown",
   "id": "482d4483-06b9-4f85-8c5d-a9255bbfe363",
   "metadata": {},
   "source": [
    "#### Overfitting check"
   ]
  },
  {
   "cell_type": "markdown",
   "id": "02443c4d-06b5-465b-82ed-0aa9a1375b5a",
   "metadata": {},
   "source": [
    "## Model4"
   ]
  },
  {
   "cell_type": "markdown",
   "id": "0450d821-92ae-45d8-8623-9b3e32f58670",
   "metadata": {},
   "source": [
    "### Model"
   ]
  },
  {
   "cell_type": "markdown",
   "id": "31518ca3-f28d-431a-9224-11dafa0743db",
   "metadata": {},
   "source": [
    "### Evaluation"
   ]
  },
  {
   "cell_type": "markdown",
   "id": "c3900316-9002-41e1-a138-5b74fb2e1428",
   "metadata": {},
   "source": [
    "#### Overfitting check"
   ]
  },
  {
   "cell_type": "markdown",
   "id": "813d928c-7304-4fc7-aabf-40e582906671",
   "metadata": {},
   "source": [
    "## Models comparison"
   ]
  },
  {
   "cell_type": "markdown",
   "id": "5200175a-848c-48a0-b45e-5fa4ca224c61",
   "metadata": {
    "jp-MarkdownHeadingCollapsed": true
   },
   "source": [
    "#### Conclusions"
   ]
  },
  {
   "cell_type": "markdown",
   "id": "d6abdf1a-c52f-4505-a6e8-f5270b991068",
   "metadata": {},
   "source": [
    "## Final Model"
   ]
  }
 ],
 "metadata": {
  "kernelspec": {
   "display_name": "Python 3 (ipykernel)",
   "language": "python",
   "name": "python3"
  },
  "language_info": {
   "codemirror_mode": {
    "name": "ipython",
    "version": 3
   },
   "file_extension": ".py",
   "mimetype": "text/x-python",
   "name": "python",
   "nbconvert_exporter": "python",
   "pygments_lexer": "ipython3",
   "version": "3.13.1"
  }
 },
 "nbformat": 4,
 "nbformat_minor": 5
}
