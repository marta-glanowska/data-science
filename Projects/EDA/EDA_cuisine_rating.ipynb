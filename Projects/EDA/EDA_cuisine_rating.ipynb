{
 "cells": [
  {
   "cell_type": "markdown",
   "id": "8883f286-6c6c-4089-b367-f4844cd8dcd3",
   "metadata": {},
   "source": [
    "### Imports"
   ]
  },
  {
   "cell_type": "code",
   "execution_count": 1,
   "id": "258a15d6-cdd6-4013-86a9-d2d27e8cfde5",
   "metadata": {},
   "outputs": [],
   "source": [
    "import numpy as np\n",
    "import pandas as pd\n",
    "import matplotlib.pyplot as plt\n",
    "import seaborn as sns"
   ]
  },
  {
   "cell_type": "markdown",
   "id": "2763a902-63fd-464e-948e-1444b832db42",
   "metadata": {},
   "source": [
    "## Data\n",
    "https://www.kaggle.com/datasets/surajjha101/cuisine-rating\n",
    "\n",
    "---\n",
    "##### Data Dictionary\n",
    "\n",
    "    User ID - User ID of customers\n",
    "    Area code - Area code of customers residence\n",
    "    Location - Area and the city of residence of customers\n",
    "    Gender - Gender of customer\n",
    "    YOB - Year when customer was born\n",
    "    Marital Status - Marital status\n",
    "    Activity - Customers career status whether student or professional\n",
    "    Budget - Budget they may spend in the restaurant\n",
    "    Cuisines - Cuisine they preferred/liked the most to have at restaurant\n",
    "    Alcohol - Alcohol intake frequency\n",
    "    Food Rating - Rating they gave to restaurant's food\n",
    "    Service Rating - Rating they gave to restaurant's service\n",
    "    Overall Rating - Mean rating calculated from food and service ratings\n",
    "    Often A S - Often they visited restaurant or not\n",
    "---"
   ]
  },
  {
   "cell_type": "code",
   "execution_count": 2,
   "id": "2d558dca-3daa-4794-a296-efa682ac6710",
   "metadata": {},
   "outputs": [
    {
     "data": {
      "text/html": [
       "<div>\n",
       "<style scoped>\n",
       "    .dataframe tbody tr th:only-of-type {\n",
       "        vertical-align: middle;\n",
       "    }\n",
       "\n",
       "    .dataframe tbody tr th {\n",
       "        vertical-align: top;\n",
       "    }\n",
       "\n",
       "    .dataframe thead th {\n",
       "        text-align: right;\n",
       "    }\n",
       "</style>\n",
       "<table border=\"1\" class=\"dataframe\">\n",
       "  <thead>\n",
       "    <tr style=\"text-align: right;\">\n",
       "      <th></th>\n",
       "      <th>User ID</th>\n",
       "      <th>Area code</th>\n",
       "      <th>Location</th>\n",
       "      <th>Gender</th>\n",
       "      <th>YOB</th>\n",
       "      <th>Marital Status</th>\n",
       "      <th>Activity</th>\n",
       "      <th>Budget</th>\n",
       "      <th>Cuisines</th>\n",
       "      <th>Alcohol</th>\n",
       "      <th>Smoker</th>\n",
       "      <th>Food Rating</th>\n",
       "      <th>Service Rating</th>\n",
       "      <th>Overall Rating</th>\n",
       "      <th>Often A S</th>\n",
       "    </tr>\n",
       "  </thead>\n",
       "  <tbody>\n",
       "    <tr>\n",
       "      <th>0</th>\n",
       "      <td>1</td>\n",
       "      <td>153</td>\n",
       "      <td>Upper East Side,NY</td>\n",
       "      <td>Female</td>\n",
       "      <td>2006</td>\n",
       "      <td>Single</td>\n",
       "      <td>Professional</td>\n",
       "      <td>3</td>\n",
       "      <td>Japanese</td>\n",
       "      <td>Never</td>\n",
       "      <td>Never</td>\n",
       "      <td>5</td>\n",
       "      <td>4</td>\n",
       "      <td>4.5</td>\n",
       "      <td>No</td>\n",
       "    </tr>\n",
       "    <tr>\n",
       "      <th>1</th>\n",
       "      <td>2</td>\n",
       "      <td>123</td>\n",
       "      <td>St. George,NY</td>\n",
       "      <td>Female</td>\n",
       "      <td>1991</td>\n",
       "      <td>Married</td>\n",
       "      <td>Student</td>\n",
       "      <td>3</td>\n",
       "      <td>Indian</td>\n",
       "      <td>Never</td>\n",
       "      <td>Socially</td>\n",
       "      <td>1</td>\n",
       "      <td>1</td>\n",
       "      <td>1.0</td>\n",
       "      <td>No</td>\n",
       "    </tr>\n",
       "    <tr>\n",
       "      <th>2</th>\n",
       "      <td>3</td>\n",
       "      <td>122</td>\n",
       "      <td>Upper West Side,NY</td>\n",
       "      <td>Male</td>\n",
       "      <td>1977</td>\n",
       "      <td>Single</td>\n",
       "      <td>Student</td>\n",
       "      <td>5</td>\n",
       "      <td>Seafood</td>\n",
       "      <td>Often</td>\n",
       "      <td>Often</td>\n",
       "      <td>5</td>\n",
       "      <td>5</td>\n",
       "      <td>5.0</td>\n",
       "      <td>Yes</td>\n",
       "    </tr>\n",
       "    <tr>\n",
       "      <th>3</th>\n",
       "      <td>4</td>\n",
       "      <td>153</td>\n",
       "      <td>Upper East Side,NY</td>\n",
       "      <td>Female</td>\n",
       "      <td>1956</td>\n",
       "      <td>Married</td>\n",
       "      <td>Professional</td>\n",
       "      <td>5</td>\n",
       "      <td>Japanese</td>\n",
       "      <td>Never</td>\n",
       "      <td>Socially</td>\n",
       "      <td>3</td>\n",
       "      <td>1</td>\n",
       "      <td>2.0</td>\n",
       "      <td>No</td>\n",
       "    </tr>\n",
       "    <tr>\n",
       "      <th>4</th>\n",
       "      <td>5</td>\n",
       "      <td>129</td>\n",
       "      <td>Central Park,NY</td>\n",
       "      <td>Male</td>\n",
       "      <td>1997</td>\n",
       "      <td>Single</td>\n",
       "      <td>Student</td>\n",
       "      <td>4</td>\n",
       "      <td>Filipino</td>\n",
       "      <td>Socially</td>\n",
       "      <td>Never</td>\n",
       "      <td>2</td>\n",
       "      <td>4</td>\n",
       "      <td>3.0</td>\n",
       "      <td>No</td>\n",
       "    </tr>\n",
       "  </tbody>\n",
       "</table>\n",
       "</div>"
      ],
      "text/plain": [
       "   User ID  Area code            Location  Gender   YOB Marital Status  \\\n",
       "0        1        153  Upper East Side,NY  Female  2006         Single   \n",
       "1        2        123       St. George,NY  Female  1991        Married   \n",
       "2        3        122  Upper West Side,NY    Male  1977         Single   \n",
       "3        4        153  Upper East Side,NY  Female  1956        Married   \n",
       "4        5        129     Central Park,NY    Male  1997         Single   \n",
       "\n",
       "       Activity  Budget  Cuisines  Alcohol     Smoker  Food Rating  \\\n",
       "0  Professional       3  Japanese     Never     Never            5   \n",
       "1       Student       3    Indian     Never  Socially            1   \n",
       "2       Student       5   Seafood     Often     Often            5   \n",
       "3  Professional       5  Japanese     Never  Socially            3   \n",
       "4       Student       4  Filipino  Socially     Never            2   \n",
       "\n",
       "   Service Rating  Overall Rating Often A S  \n",
       "0               4             4.5        No  \n",
       "1               1             1.0        No  \n",
       "2               5             5.0       Yes  \n",
       "3               1             2.0        No  \n",
       "4               4             3.0        No  "
      ]
     },
     "execution_count": 2,
     "metadata": {},
     "output_type": "execute_result"
    }
   ],
   "source": [
    "df = pd.read_csv(\"..\\\\..\\\\DATA\\\\kaggle\\\\cuisine_rating.csv\")\n",
    "df.head()"
   ]
  },
  {
   "cell_type": "markdown",
   "id": "96f3740f-3ff2-463b-a9dd-86ed4fd3e138",
   "metadata": {},
   "source": [
    "## Exploratory Data Analysis and Visualisations"
   ]
  },
  {
   "cell_type": "markdown",
   "id": "e16c10c0-9577-42ad-bfd5-8b95c09d8560",
   "metadata": {},
   "source": [
    "#### Basic Exploration"
   ]
  },
  {
   "cell_type": "code",
   "execution_count": 3,
   "id": "c2c178ca-0fbd-42d4-9358-21155aed54d3",
   "metadata": {},
   "outputs": [
    {
     "data": {
      "text/plain": [
       "(200, 15)"
      ]
     },
     "execution_count": 3,
     "metadata": {},
     "output_type": "execute_result"
    }
   ],
   "source": [
    "df.shape"
   ]
  },
  {
   "cell_type": "code",
   "execution_count": 4,
   "id": "2eecbb78-0add-43d4-bf40-954edd6bca6a",
   "metadata": {},
   "outputs": [
    {
     "name": "stdout",
     "output_type": "stream",
     "text": [
      "<class 'pandas.core.frame.DataFrame'>\n",
      "RangeIndex: 200 entries, 0 to 199\n",
      "Data columns (total 15 columns):\n",
      " #   Column          Non-Null Count  Dtype  \n",
      "---  ------          --------------  -----  \n",
      " 0   User ID         200 non-null    int64  \n",
      " 1   Area code       200 non-null    int64  \n",
      " 2   Location        200 non-null    object \n",
      " 3   Gender          200 non-null    object \n",
      " 4   YOB             200 non-null    int64  \n",
      " 5   Marital Status  200 non-null    object \n",
      " 6   Activity        200 non-null    object \n",
      " 7   Budget          200 non-null    int64  \n",
      " 8   Cuisines        200 non-null    object \n",
      " 9   Alcohol         200 non-null    object \n",
      " 10  Smoker          200 non-null    object \n",
      " 11  Food Rating     200 non-null    int64  \n",
      " 12  Service Rating  200 non-null    int64  \n",
      " 13  Overall Rating  200 non-null    float64\n",
      " 14  Often A S       200 non-null    object \n",
      "dtypes: float64(1), int64(6), object(8)\n",
      "memory usage: 23.6+ KB\n"
     ]
    }
   ],
   "source": [
    "df.info()"
   ]
  },
  {
   "cell_type": "markdown",
   "id": "74ab9329-67df-4a3a-92d6-840d83a49355",
   "metadata": {},
   "source": [
    "#### Missing values"
   ]
  },
  {
   "cell_type": "code",
   "execution_count": 5,
   "id": "65db4e94-f3ad-4f03-bce8-d5b35c8e9bf0",
   "metadata": {},
   "outputs": [
    {
     "data": {
      "text/plain": [
       "User ID           0\n",
       "Area code         0\n",
       "Location          0\n",
       "Gender            0\n",
       "YOB               0\n",
       "Marital Status    0\n",
       "Activity          0\n",
       "Budget            0\n",
       "Cuisines          0\n",
       "Alcohol           0\n",
       "Smoker            0\n",
       "Food Rating       0\n",
       "Service Rating    0\n",
       "Overall Rating    0\n",
       "Often A S         0\n",
       "dtype: int64"
      ]
     },
     "execution_count": 5,
     "metadata": {},
     "output_type": "execute_result"
    }
   ],
   "source": [
    "df.isnull().sum()"
   ]
  },
  {
   "cell_type": "markdown",
   "id": "be356db4-af22-4b46-b7de-39c42554504a",
   "metadata": {},
   "source": [
    "#### Duplicates"
   ]
  },
  {
   "cell_type": "code",
   "execution_count": 6,
   "id": "27423cfa-6ef1-403f-b9ca-b06b703727cb",
   "metadata": {},
   "outputs": [
    {
     "data": {
      "text/plain": [
       "np.int64(0)"
      ]
     },
     "execution_count": 6,
     "metadata": {},
     "output_type": "execute_result"
    }
   ],
   "source": [
    "df.duplicated().sum()"
   ]
  },
  {
   "cell_type": "code",
   "execution_count": 7,
   "id": "e4aea84b-1502-4464-b5e4-205b75d786e7",
   "metadata": {},
   "outputs": [
    {
     "data": {
      "text/html": [
       "<div>\n",
       "<style scoped>\n",
       "    .dataframe tbody tr th:only-of-type {\n",
       "        vertical-align: middle;\n",
       "    }\n",
       "\n",
       "    .dataframe tbody tr th {\n",
       "        vertical-align: top;\n",
       "    }\n",
       "\n",
       "    .dataframe thead th {\n",
       "        text-align: right;\n",
       "    }\n",
       "</style>\n",
       "<table border=\"1\" class=\"dataframe\">\n",
       "  <thead>\n",
       "    <tr style=\"text-align: right;\">\n",
       "      <th></th>\n",
       "      <th>Area code</th>\n",
       "      <th>Location</th>\n",
       "      <th>Gender</th>\n",
       "      <th>YOB</th>\n",
       "      <th>Marital Status</th>\n",
       "      <th>Activity</th>\n",
       "      <th>Budget</th>\n",
       "      <th>Cuisines</th>\n",
       "      <th>Alcohol</th>\n",
       "      <th>Smoker</th>\n",
       "      <th>Food Rating</th>\n",
       "      <th>Service Rating</th>\n",
       "      <th>Overall Rating</th>\n",
       "      <th>Often A S</th>\n",
       "    </tr>\n",
       "  </thead>\n",
       "  <tbody>\n",
       "    <tr>\n",
       "      <th>0</th>\n",
       "      <td>153</td>\n",
       "      <td>Upper East Side,NY</td>\n",
       "      <td>Female</td>\n",
       "      <td>2006</td>\n",
       "      <td>Single</td>\n",
       "      <td>Professional</td>\n",
       "      <td>3</td>\n",
       "      <td>Japanese</td>\n",
       "      <td>Never</td>\n",
       "      <td>Never</td>\n",
       "      <td>5</td>\n",
       "      <td>4</td>\n",
       "      <td>4.5</td>\n",
       "      <td>No</td>\n",
       "    </tr>\n",
       "    <tr>\n",
       "      <th>1</th>\n",
       "      <td>123</td>\n",
       "      <td>St. George,NY</td>\n",
       "      <td>Female</td>\n",
       "      <td>1991</td>\n",
       "      <td>Married</td>\n",
       "      <td>Student</td>\n",
       "      <td>3</td>\n",
       "      <td>Indian</td>\n",
       "      <td>Never</td>\n",
       "      <td>Socially</td>\n",
       "      <td>1</td>\n",
       "      <td>1</td>\n",
       "      <td>1.0</td>\n",
       "      <td>No</td>\n",
       "    </tr>\n",
       "    <tr>\n",
       "      <th>2</th>\n",
       "      <td>122</td>\n",
       "      <td>Upper West Side,NY</td>\n",
       "      <td>Male</td>\n",
       "      <td>1977</td>\n",
       "      <td>Single</td>\n",
       "      <td>Student</td>\n",
       "      <td>5</td>\n",
       "      <td>Seafood</td>\n",
       "      <td>Often</td>\n",
       "      <td>Often</td>\n",
       "      <td>5</td>\n",
       "      <td>5</td>\n",
       "      <td>5.0</td>\n",
       "      <td>Yes</td>\n",
       "    </tr>\n",
       "    <tr>\n",
       "      <th>3</th>\n",
       "      <td>153</td>\n",
       "      <td>Upper East Side,NY</td>\n",
       "      <td>Female</td>\n",
       "      <td>1956</td>\n",
       "      <td>Married</td>\n",
       "      <td>Professional</td>\n",
       "      <td>5</td>\n",
       "      <td>Japanese</td>\n",
       "      <td>Never</td>\n",
       "      <td>Socially</td>\n",
       "      <td>3</td>\n",
       "      <td>1</td>\n",
       "      <td>2.0</td>\n",
       "      <td>No</td>\n",
       "    </tr>\n",
       "    <tr>\n",
       "      <th>4</th>\n",
       "      <td>129</td>\n",
       "      <td>Central Park,NY</td>\n",
       "      <td>Male</td>\n",
       "      <td>1997</td>\n",
       "      <td>Single</td>\n",
       "      <td>Student</td>\n",
       "      <td>4</td>\n",
       "      <td>Filipino</td>\n",
       "      <td>Socially</td>\n",
       "      <td>Never</td>\n",
       "      <td>2</td>\n",
       "      <td>4</td>\n",
       "      <td>3.0</td>\n",
       "      <td>No</td>\n",
       "    </tr>\n",
       "  </tbody>\n",
       "</table>\n",
       "</div>"
      ],
      "text/plain": [
       "   Area code            Location  Gender   YOB Marital Status      Activity  \\\n",
       "0        153  Upper East Side,NY  Female  2006         Single  Professional   \n",
       "1        123       St. George,NY  Female  1991        Married       Student   \n",
       "2        122  Upper West Side,NY    Male  1977         Single       Student   \n",
       "3        153  Upper East Side,NY  Female  1956        Married  Professional   \n",
       "4        129     Central Park,NY    Male  1997         Single       Student   \n",
       "\n",
       "   Budget  Cuisines  Alcohol     Smoker  Food Rating  Service Rating  \\\n",
       "0       3  Japanese     Never     Never            5               4   \n",
       "1       3    Indian     Never  Socially            1               1   \n",
       "2       5   Seafood     Often     Often            5               5   \n",
       "3       5  Japanese     Never  Socially            3               1   \n",
       "4       4  Filipino  Socially     Never            2               4   \n",
       "\n",
       "   Overall Rating Often A S  \n",
       "0             4.5        No  \n",
       "1             1.0        No  \n",
       "2             5.0       Yes  \n",
       "3             2.0        No  \n",
       "4             3.0        No  "
      ]
     },
     "execution_count": 7,
     "metadata": {},
     "output_type": "execute_result"
    }
   ],
   "source": [
    "# Dropping 'User ID' column\n",
    "# It's not neccessary for further analysis purpouses, cause there are no duplicates\n",
    "df = df.drop('User ID', axis=1)\n",
    "df.head()"
   ]
  },
  {
   "cell_type": "code",
   "execution_count": 8,
   "id": "8c894c94-ce22-4885-b738-9207520d50fe",
   "metadata": {},
   "outputs": [
    {
     "data": {
      "text/plain": [
       "(200, 14)"
      ]
     },
     "execution_count": 8,
     "metadata": {},
     "output_type": "execute_result"
    }
   ],
   "source": [
    "df.shape"
   ]
  },
  {
   "cell_type": "markdown",
   "id": "e82aef0a-ca2e-4624-b726-4b8f414dc6e6",
   "metadata": {},
   "source": [
    "#### First data preparation in EDA"
   ]
  },
  {
   "cell_type": "markdown",
   "id": "7207dc8e-522b-43a2-9725-b0993c35b6af",
   "metadata": {},
   "source": [
    "##### Checking if 'Area code' has the same unique values as 'Location' (checking if they are representing the same info)"
   ]
  },
  {
   "cell_type": "code",
   "execution_count": 9,
   "id": "d2735f77-0e2a-4e2d-972a-9b20b4530ca5",
   "metadata": {},
   "outputs": [
    {
     "data": {
      "text/plain": [
       "65"
      ]
     },
     "execution_count": 9,
     "metadata": {},
     "output_type": "execute_result"
    }
   ],
   "source": [
    "len(df['Area code'].unique())"
   ]
  },
  {
   "cell_type": "code",
   "execution_count": 10,
   "id": "77ec3a38-8558-4ef4-a750-85a32c509cb8",
   "metadata": {},
   "outputs": [
    {
     "data": {
      "text/plain": [
       "10"
      ]
     },
     "execution_count": 10,
     "metadata": {},
     "output_type": "execute_result"
    }
   ],
   "source": [
    "len(df['Location'].unique())"
   ]
  },
  {
   "cell_type": "markdown",
   "id": "ac9623d1-9c17-4c4b-9ed1-04f024fcb97e",
   "metadata": {},
   "source": [
    "They are not the same, so more codes reffer to the same location in this dataset."
   ]
  },
  {
   "cell_type": "markdown",
   "id": "316b0e1e-a333-4cb0-ba2d-e53d090a78ab",
   "metadata": {},
   "source": [
    "##### Adding 'Age' column based by year of 'YOB', cause it's easier to interprate results on age"
   ]
  },
  {
   "cell_type": "code",
   "execution_count": 11,
   "id": "59fd8e1e-f991-4b5e-bea0-4b2ccc56bafb",
   "metadata": {},
   "outputs": [
    {
     "data": {
      "text/html": [
       "<div>\n",
       "<style scoped>\n",
       "    .dataframe tbody tr th:only-of-type {\n",
       "        vertical-align: middle;\n",
       "    }\n",
       "\n",
       "    .dataframe tbody tr th {\n",
       "        vertical-align: top;\n",
       "    }\n",
       "\n",
       "    .dataframe thead th {\n",
       "        text-align: right;\n",
       "    }\n",
       "</style>\n",
       "<table border=\"1\" class=\"dataframe\">\n",
       "  <thead>\n",
       "    <tr style=\"text-align: right;\">\n",
       "      <th></th>\n",
       "      <th>Area code</th>\n",
       "      <th>Location</th>\n",
       "      <th>Gender</th>\n",
       "      <th>YOB</th>\n",
       "      <th>Marital Status</th>\n",
       "      <th>Activity</th>\n",
       "      <th>Budget</th>\n",
       "      <th>Cuisines</th>\n",
       "      <th>Alcohol</th>\n",
       "      <th>Smoker</th>\n",
       "      <th>Food Rating</th>\n",
       "      <th>Service Rating</th>\n",
       "      <th>Overall Rating</th>\n",
       "      <th>Often A S</th>\n",
       "      <th>Age</th>\n",
       "    </tr>\n",
       "  </thead>\n",
       "  <tbody>\n",
       "    <tr>\n",
       "      <th>0</th>\n",
       "      <td>153</td>\n",
       "      <td>Upper East Side,NY</td>\n",
       "      <td>Female</td>\n",
       "      <td>2006</td>\n",
       "      <td>Single</td>\n",
       "      <td>Professional</td>\n",
       "      <td>3</td>\n",
       "      <td>Japanese</td>\n",
       "      <td>Never</td>\n",
       "      <td>Never</td>\n",
       "      <td>5</td>\n",
       "      <td>4</td>\n",
       "      <td>4.5</td>\n",
       "      <td>No</td>\n",
       "      <td>19</td>\n",
       "    </tr>\n",
       "    <tr>\n",
       "      <th>1</th>\n",
       "      <td>123</td>\n",
       "      <td>St. George,NY</td>\n",
       "      <td>Female</td>\n",
       "      <td>1991</td>\n",
       "      <td>Married</td>\n",
       "      <td>Student</td>\n",
       "      <td>3</td>\n",
       "      <td>Indian</td>\n",
       "      <td>Never</td>\n",
       "      <td>Socially</td>\n",
       "      <td>1</td>\n",
       "      <td>1</td>\n",
       "      <td>1.0</td>\n",
       "      <td>No</td>\n",
       "      <td>34</td>\n",
       "    </tr>\n",
       "    <tr>\n",
       "      <th>2</th>\n",
       "      <td>122</td>\n",
       "      <td>Upper West Side,NY</td>\n",
       "      <td>Male</td>\n",
       "      <td>1977</td>\n",
       "      <td>Single</td>\n",
       "      <td>Student</td>\n",
       "      <td>5</td>\n",
       "      <td>Seafood</td>\n",
       "      <td>Often</td>\n",
       "      <td>Often</td>\n",
       "      <td>5</td>\n",
       "      <td>5</td>\n",
       "      <td>5.0</td>\n",
       "      <td>Yes</td>\n",
       "      <td>48</td>\n",
       "    </tr>\n",
       "    <tr>\n",
       "      <th>3</th>\n",
       "      <td>153</td>\n",
       "      <td>Upper East Side,NY</td>\n",
       "      <td>Female</td>\n",
       "      <td>1956</td>\n",
       "      <td>Married</td>\n",
       "      <td>Professional</td>\n",
       "      <td>5</td>\n",
       "      <td>Japanese</td>\n",
       "      <td>Never</td>\n",
       "      <td>Socially</td>\n",
       "      <td>3</td>\n",
       "      <td>1</td>\n",
       "      <td>2.0</td>\n",
       "      <td>No</td>\n",
       "      <td>69</td>\n",
       "    </tr>\n",
       "    <tr>\n",
       "      <th>4</th>\n",
       "      <td>129</td>\n",
       "      <td>Central Park,NY</td>\n",
       "      <td>Male</td>\n",
       "      <td>1997</td>\n",
       "      <td>Single</td>\n",
       "      <td>Student</td>\n",
       "      <td>4</td>\n",
       "      <td>Filipino</td>\n",
       "      <td>Socially</td>\n",
       "      <td>Never</td>\n",
       "      <td>2</td>\n",
       "      <td>4</td>\n",
       "      <td>3.0</td>\n",
       "      <td>No</td>\n",
       "      <td>28</td>\n",
       "    </tr>\n",
       "  </tbody>\n",
       "</table>\n",
       "</div>"
      ],
      "text/plain": [
       "   Area code            Location  Gender   YOB Marital Status      Activity  \\\n",
       "0        153  Upper East Side,NY  Female  2006         Single  Professional   \n",
       "1        123       St. George,NY  Female  1991        Married       Student   \n",
       "2        122  Upper West Side,NY    Male  1977         Single       Student   \n",
       "3        153  Upper East Side,NY  Female  1956        Married  Professional   \n",
       "4        129     Central Park,NY    Male  1997         Single       Student   \n",
       "\n",
       "   Budget  Cuisines  Alcohol     Smoker  Food Rating  Service Rating  \\\n",
       "0       3  Japanese     Never     Never            5               4   \n",
       "1       3    Indian     Never  Socially            1               1   \n",
       "2       5   Seafood     Often     Often            5               5   \n",
       "3       5  Japanese     Never  Socially            3               1   \n",
       "4       4  Filipino  Socially     Never            2               4   \n",
       "\n",
       "   Overall Rating Often A S  Age  \n",
       "0             4.5        No   19  \n",
       "1             1.0        No   34  \n",
       "2             5.0       Yes   48  \n",
       "3             2.0        No   69  \n",
       "4             3.0        No   28  "
      ]
     },
     "execution_count": 11,
     "metadata": {},
     "output_type": "execute_result"
    }
   ],
   "source": [
    "from datetime import datetime\n",
    "current_year = datetime.now().year\n",
    "df['Age'] = current_year - df['YOB']\n",
    "df.head()"
   ]
  },
  {
   "cell_type": "markdown",
   "id": "1e968f2b-a99e-4609-9ffc-9ea08647b924",
   "metadata": {},
   "source": [
    "#### Statistical analysis"
   ]
  },
  {
   "cell_type": "code",
   "execution_count": 12,
   "id": "2c7ae203-686e-4ed6-93ae-f3039fee010a",
   "metadata": {},
   "outputs": [
    {
     "data": {
      "text/html": [
       "<div>\n",
       "<style scoped>\n",
       "    .dataframe tbody tr th:only-of-type {\n",
       "        vertical-align: middle;\n",
       "    }\n",
       "\n",
       "    .dataframe tbody tr th {\n",
       "        vertical-align: top;\n",
       "    }\n",
       "\n",
       "    .dataframe thead th {\n",
       "        text-align: right;\n",
       "    }\n",
       "</style>\n",
       "<table border=\"1\" class=\"dataframe\">\n",
       "  <thead>\n",
       "    <tr style=\"text-align: right;\">\n",
       "      <th></th>\n",
       "      <th>count</th>\n",
       "      <th>mean</th>\n",
       "      <th>std</th>\n",
       "      <th>min</th>\n",
       "      <th>25%</th>\n",
       "      <th>50%</th>\n",
       "      <th>75%</th>\n",
       "      <th>max</th>\n",
       "    </tr>\n",
       "  </thead>\n",
       "  <tbody>\n",
       "    <tr>\n",
       "      <th>Area code</th>\n",
       "      <td>200.0</td>\n",
       "      <td>141.060</td>\n",
       "      <td>26.130257</td>\n",
       "      <td>101.0</td>\n",
       "      <td>123.0</td>\n",
       "      <td>135.0</td>\n",
       "      <td>158.0</td>\n",
       "      <td>199.0</td>\n",
       "    </tr>\n",
       "    <tr>\n",
       "      <th>YOB</th>\n",
       "      <td>200.0</td>\n",
       "      <td>1984.830</td>\n",
       "      <td>16.809339</td>\n",
       "      <td>1955.0</td>\n",
       "      <td>1971.0</td>\n",
       "      <td>1987.0</td>\n",
       "      <td>2000.0</td>\n",
       "      <td>2009.0</td>\n",
       "    </tr>\n",
       "    <tr>\n",
       "      <th>Budget</th>\n",
       "      <td>200.0</td>\n",
       "      <td>3.815</td>\n",
       "      <td>1.056578</td>\n",
       "      <td>1.0</td>\n",
       "      <td>3.0</td>\n",
       "      <td>4.0</td>\n",
       "      <td>5.0</td>\n",
       "      <td>5.0</td>\n",
       "    </tr>\n",
       "    <tr>\n",
       "      <th>Food Rating</th>\n",
       "      <td>200.0</td>\n",
       "      <td>3.220</td>\n",
       "      <td>1.411226</td>\n",
       "      <td>1.0</td>\n",
       "      <td>2.0</td>\n",
       "      <td>3.0</td>\n",
       "      <td>5.0</td>\n",
       "      <td>5.0</td>\n",
       "    </tr>\n",
       "    <tr>\n",
       "      <th>Service Rating</th>\n",
       "      <td>200.0</td>\n",
       "      <td>3.230</td>\n",
       "      <td>1.526022</td>\n",
       "      <td>1.0</td>\n",
       "      <td>2.0</td>\n",
       "      <td>3.0</td>\n",
       "      <td>5.0</td>\n",
       "      <td>5.0</td>\n",
       "    </tr>\n",
       "    <tr>\n",
       "      <th>Overall Rating</th>\n",
       "      <td>200.0</td>\n",
       "      <td>3.225</td>\n",
       "      <td>1.079445</td>\n",
       "      <td>1.0</td>\n",
       "      <td>2.5</td>\n",
       "      <td>3.0</td>\n",
       "      <td>4.0</td>\n",
       "      <td>5.0</td>\n",
       "    </tr>\n",
       "    <tr>\n",
       "      <th>Age</th>\n",
       "      <td>200.0</td>\n",
       "      <td>40.170</td>\n",
       "      <td>16.809339</td>\n",
       "      <td>16.0</td>\n",
       "      <td>25.0</td>\n",
       "      <td>38.0</td>\n",
       "      <td>54.0</td>\n",
       "      <td>70.0</td>\n",
       "    </tr>\n",
       "  </tbody>\n",
       "</table>\n",
       "</div>"
      ],
      "text/plain": [
       "                count      mean        std     min     25%     50%     75%  \\\n",
       "Area code       200.0   141.060  26.130257   101.0   123.0   135.0   158.0   \n",
       "YOB             200.0  1984.830  16.809339  1955.0  1971.0  1987.0  2000.0   \n",
       "Budget          200.0     3.815   1.056578     1.0     3.0     4.0     5.0   \n",
       "Food Rating     200.0     3.220   1.411226     1.0     2.0     3.0     5.0   \n",
       "Service Rating  200.0     3.230   1.526022     1.0     2.0     3.0     5.0   \n",
       "Overall Rating  200.0     3.225   1.079445     1.0     2.5     3.0     4.0   \n",
       "Age             200.0    40.170  16.809339    16.0    25.0    38.0    54.0   \n",
       "\n",
       "                   max  \n",
       "Area code        199.0  \n",
       "YOB             2009.0  \n",
       "Budget             5.0  \n",
       "Food Rating        5.0  \n",
       "Service Rating     5.0  \n",
       "Overall Rating     5.0  \n",
       "Age               70.0  "
      ]
     },
     "execution_count": 12,
     "metadata": {},
     "output_type": "execute_result"
    }
   ],
   "source": [
    "df.describe().transpose()"
   ]
  },
  {
   "cell_type": "code",
   "execution_count": 13,
   "id": "b1093263-e346-419c-91b8-0cc2b8a7aa0e",
   "metadata": {},
   "outputs": [
    {
     "data": {
      "text/html": [
       "<div>\n",
       "<style scoped>\n",
       "    .dataframe tbody tr th:only-of-type {\n",
       "        vertical-align: middle;\n",
       "    }\n",
       "\n",
       "    .dataframe tbody tr th {\n",
       "        vertical-align: top;\n",
       "    }\n",
       "\n",
       "    .dataframe thead th {\n",
       "        text-align: right;\n",
       "    }\n",
       "</style>\n",
       "<table border=\"1\" class=\"dataframe\">\n",
       "  <thead>\n",
       "    <tr style=\"text-align: right;\">\n",
       "      <th></th>\n",
       "      <th>count</th>\n",
       "      <th>unique</th>\n",
       "      <th>top</th>\n",
       "      <th>freq</th>\n",
       "    </tr>\n",
       "  </thead>\n",
       "  <tbody>\n",
       "    <tr>\n",
       "      <th>Location</th>\n",
       "      <td>200</td>\n",
       "      <td>10</td>\n",
       "      <td>St. George,NY</td>\n",
       "      <td>46</td>\n",
       "    </tr>\n",
       "    <tr>\n",
       "      <th>Gender</th>\n",
       "      <td>200</td>\n",
       "      <td>2</td>\n",
       "      <td>Male</td>\n",
       "      <td>118</td>\n",
       "    </tr>\n",
       "    <tr>\n",
       "      <th>Marital Status</th>\n",
       "      <td>200</td>\n",
       "      <td>3</td>\n",
       "      <td>Single</td>\n",
       "      <td>100</td>\n",
       "    </tr>\n",
       "    <tr>\n",
       "      <th>Activity</th>\n",
       "      <td>200</td>\n",
       "      <td>2</td>\n",
       "      <td>Student</td>\n",
       "      <td>120</td>\n",
       "    </tr>\n",
       "    <tr>\n",
       "      <th>Cuisines</th>\n",
       "      <td>200</td>\n",
       "      <td>7</td>\n",
       "      <td>Japanese</td>\n",
       "      <td>36</td>\n",
       "    </tr>\n",
       "    <tr>\n",
       "      <th>Alcohol</th>\n",
       "      <td>200</td>\n",
       "      <td>3</td>\n",
       "      <td>Never</td>\n",
       "      <td>88</td>\n",
       "    </tr>\n",
       "    <tr>\n",
       "      <th>Smoker</th>\n",
       "      <td>200</td>\n",
       "      <td>3</td>\n",
       "      <td>Socially</td>\n",
       "      <td>71</td>\n",
       "    </tr>\n",
       "    <tr>\n",
       "      <th>Often A S</th>\n",
       "      <td>200</td>\n",
       "      <td>2</td>\n",
       "      <td>No</td>\n",
       "      <td>174</td>\n",
       "    </tr>\n",
       "  </tbody>\n",
       "</table>\n",
       "</div>"
      ],
      "text/plain": [
       "               count unique            top freq\n",
       "Location         200     10  St. George,NY   46\n",
       "Gender           200      2           Male  118\n",
       "Marital Status   200      3         Single  100\n",
       "Activity         200      2        Student  120\n",
       "Cuisines         200      7       Japanese   36\n",
       "Alcohol          200      3          Never   88\n",
       "Smoker           200      3       Socially   71\n",
       "Often A S        200      2             No  174"
      ]
     },
     "execution_count": 13,
     "metadata": {},
     "output_type": "execute_result"
    }
   ],
   "source": [
    "df.describe(include='object').transpose()"
   ]
  },
  {
   "cell_type": "code",
   "execution_count": 14,
   "id": "fd5c729d-e7ed-4837-9360-beacba13a14f",
   "metadata": {},
   "outputs": [
    {
     "data": {
      "text/plain": [
       "YOB             Age              -1.000000\n",
       "Budget          Service Rating   -0.135542\n",
       "YOB             Budget           -0.071383\n",
       "Area code       YOB              -0.065006\n",
       "Budget          Overall Rating   -0.058049\n",
       "Overall Rating  Age              -0.057508\n",
       "Area code       Budget           -0.046191\n",
       "Service Rating  Age              -0.043651\n",
       "Food Rating     Age              -0.040774\n",
       "Area code       Service Rating   -0.011942\n",
       "                Overall Rating   -0.008142\n",
       "                Food Rating       0.000458\n",
       "YOB             Food Rating       0.040774\n",
       "                Service Rating    0.043651\n",
       "                Overall Rating    0.057508\n",
       "Budget          Food Rating       0.057764\n",
       "Area code       Age               0.065006\n",
       "Budget          Age               0.071383\n",
       "Food Rating     Service Rating    0.079056\n",
       "                Overall Rating    0.709562\n",
       "Service Rating  Overall Rating    0.758532\n",
       "Area code       Area code         1.000000\n",
       "dtype: float64"
      ]
     },
     "execution_count": 14,
     "metadata": {},
     "output_type": "execute_result"
    }
   ],
   "source": [
    "# Finding correlation\n",
    "df.corr(numeric_only=True).unstack().drop_duplicates().sort_values()"
   ]
  },
  {
   "cell_type": "code",
   "execution_count": 15,
   "id": "de4f839b-0e54-4786-85aa-d26eab3e906f",
   "metadata": {},
   "outputs": [
    {
     "data": {
      "text/plain": [
       "YOB                       Age                           -1.000000\n",
       "Marital Status_Married    Marital Status_Single         -0.868554\n",
       "Smoker_Often              Smoker_Socially               -0.544392\n",
       "Age                       Marital Status_Single         -0.490837\n",
       "YOB                       Marital Status_Married        -0.438124\n",
       "Alcohol _Often            Alcohol _Socially             -0.387569\n",
       "Food Rating               Marital Status_Married        -0.322278\n",
       "Smoker_Socially           Often A S_Yes                 -0.286778\n",
       "Food Rating               Smoker_Socially               -0.286669\n",
       "Overall Rating            Marital Status_Married        -0.284672\n",
       "Budget                    Location_Market City, MY      -0.268440\n",
       "Age                       Activity_Student              -0.265636\n",
       "Location_Central Park,NY  Marital Status_Married        -0.258577\n",
       "Location_Central Park,ny  Activity_Student              -0.250000\n",
       "Location_St. George,NY    Location_Upper East Side,NY   -0.229591\n",
       "Alcohol _Socially         Often A S_Yes                 -0.226154\n",
       "Location_Riverdale,NY     Location_St. George,NY        -0.220513\n",
       "Cuisines_Filipino         Smoker_Often                  -0.220467\n",
       "Age                       Location_Central Park,NY      -0.214803\n",
       "Cuisines_French           Cuisines_Japanese             -0.212039\n",
       "Cuisines_Filipino         Cuisines_Japanese             -0.212039\n",
       "Location_St. George,NY    Alcohol _Often                -0.207221\n",
       "Area code                 Location_Riverdale,NY         -0.204928\n",
       "Cuisines_Filipino         Cuisines_French               -0.204819\n",
       "Cuisines_Indian           Cuisines_Japanese             -0.204479\n",
       "Location_Central Park,NY  Location_St. George,NY        -0.201822\n",
       "YOB                       Smoker_Socially               -0.201244\n",
       "Age                       Smoker_Socially                0.201244\n",
       "Cuisines_Japanese         Smoker_Often                   0.201915\n",
       "Service Rating            Smoker_Often                   0.212797\n",
       "Food Rating               Cuisines_Japanese              0.213380\n",
       "YOB                       Location_Central Park,NY       0.214803\n",
       "Area code                 Location_Upper East Side,NY    0.227893\n",
       "Location_Market City, MY  Cuisines_Indian                0.230283\n",
       "Location_Central Park,NY  Marital Status_Single          0.246183\n",
       "YOB                       Activity_Student               0.265636\n",
       "Location_China Town, NY   Cuisines_Seafood               0.284985\n",
       "Food Rating               Often A S_Yes                  0.288121\n",
       "Overall Rating            Often A S_Yes                  0.312748\n",
       "Age                       Marital Status_Married         0.438124\n",
       "Overall Rating            Smoker_Often                   0.450276\n",
       "Food Rating               Smoker_Often                   0.458725\n",
       "YOB                       Marital Status_Single          0.490837\n",
       "Smoker_Often              Often A S_Yes                  0.526787\n",
       "Alcohol _Often            Often A S_Yes                  0.583518\n",
       "Food Rating               Overall Rating                 0.709562\n",
       "Service Rating            Overall Rating                 0.758532\n",
       "Area code                 Area code                      1.000000\n",
       "dtype: float64"
      ]
     },
     "execution_count": 15,
     "metadata": {},
     "output_type": "execute_result"
    }
   ],
   "source": [
    "# Finding correlation between all features\n",
    "df_dummies = pd.get_dummies(df, drop_first=True)\n",
    "unique_dummies_corr = df_dummies.corr().unstack().drop_duplicates().sort_values()\n",
    "unique_dummies_corr[(-0.2 > unique_dummies_corr) | (unique_dummies_corr > 0.2) ]"
   ]
  },
  {
   "cell_type": "markdown",
   "id": "3e8504af-5e50-4921-8686-a01c906a57d4",
   "metadata": {},
   "source": [
    "#### Visualisation"
   ]
  },
  {
   "cell_type": "code",
   "execution_count": 16,
   "id": "f59bc679-7b06-4fb7-91a6-a8422e602845",
   "metadata": {},
   "outputs": [
    {
     "data": {
      "text/plain": [
       "<Axes: >"
      ]
     },
     "execution_count": 16,
     "metadata": {},
     "output_type": "execute_result"
    },
    {
     "data": {
      "image/png": "[encoded data removed]",
      "text/plain": [
       "<Figure size 640x480 with 2 Axes>"
      ]
     },
     "metadata": {},
     "output_type": "display_data"
    }
   ],
   "source": [
    "# Checking features correlation\n",
    "sns.heatmap(df.corr(numeric_only=True), annot=True)"
   ]
  },
  {
   "cell_type": "code",
   "execution_count": 17,
   "id": "cdd3d799-646c-4893-9c90-71be8d15020c",
   "metadata": {},
   "outputs": [
    {
     "data": {
      "image/png": "[encoded data removed]",
      "text/plain": [
       "<Figure size 640x480 with 4 Axes>"
      ]
     },
     "metadata": {},
     "output_type": "display_data"
    }
   ],
   "source": [
    "# Checking outliers for numeric values\n",
    "fig, axes = plt.subplots(2,2)\n",
    "sns.boxplot(data=df, x='Budget', ax=axes[0][0])\n",
    "sns.boxplot(data=df, x='Food Rating', ax=axes[0][1])\n",
    "sns.boxplot(data=df, x='Service Rating', ax=axes[1][0])\n",
    "sns.boxplot(data=df, x='Overall Rating', ax=axes[1][1])\n",
    "plt.tight_layout()"
   ]
  },
  {
   "cell_type": "code",
   "execution_count": 18,
   "id": "1a9b18bf-4d1d-40a9-a9ff-d42c14b06540",
   "metadata": {},
   "outputs": [
    {
     "data": {
      "text/plain": [
       "<seaborn.axisgrid.FacetGrid at 0x1cb7e05cd70>"
      ]
     },
     "execution_count": 18,
     "metadata": {},
     "output_type": "execute_result"
    },
    {
     "data": {
      "image/png": "[encoded data removed]",
      "text/plain": [
       "<Figure size 300x300 with 1 Axes>"
      ]
     },
     "metadata": {},
     "output_type": "display_data"
    }
   ],
   "source": [
    "# Checking distributon of clients age\n",
    "sns.displot(data=df, x='Age', bins=10, kde=True, height=3)"
   ]
  },
  {
   "cell_type": "code",
   "execution_count": 19,
   "id": "eadbd9d4-8a9c-447b-ae6a-e89a13596c43",
   "metadata": {},
   "outputs": [
    {
     "data": {
      "text/plain": [
       "<Axes: xlabel='Cuisines', ylabel='Food Rating'>"
      ]
     },
     "execution_count": 19,
     "metadata": {},
     "output_type": "execute_result"
    },
    {
     "data": {
      "image/png": "[encoded data removed]",
      "text/plain": [
       "<Figure size 1000x500 with 1 Axes>"
      ]
     },
     "metadata": {},
     "output_type": "display_data"
    }
   ],
   "source": [
    "# Comparison of ratings by type of cuisine\n",
    "plt.figure(figsize=(10,5))\n",
    "sns.violinplot(data=df, x='Cuisines', y='Food Rating', hue='Cuisines')"
   ]
  },
  {
   "cell_type": "markdown",
   "id": "99dc9261-336c-48e1-8d96-ddfc5cbaba12",
   "metadata": {},
   "source": [
    "# TBC.."
   ]
  },
  {
   "cell_type": "markdown",
   "id": "d714f4aa-da47-4657-acdf-58e3dc3f3a4e",
   "metadata": {},
   "source": [
    "### Conclusions"
   ]
  }
 ],
 "metadata": {
  "kernelspec": {
   "display_name": "Python 3 (ipykernel)",
   "language": "python",
   "name": "python3"
  },
  "language_info": {
   "codemirror_mode": {
    "name": "ipython",
    "version": 3
   },
   "file_extension": ".py",
   "mimetype": "text/x-python",
   "name": "python",
   "nbconvert_exporter": "python",
   "pygments_lexer": "ipython3",
   "version": "3.13.1"
  }
 },
 "nbformat": 4,
 "nbformat_minor": 5
}
